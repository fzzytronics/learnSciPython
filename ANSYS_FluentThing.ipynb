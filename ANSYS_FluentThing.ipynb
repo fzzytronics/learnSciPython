{
 "cells": [
  {
   "cell_type": "markdown",
   "metadata": {},
   "source": [
    "# An Interactive Introduction to CFD with ANSYS Fluent\n",
    "\n",
    "**Objective:** This notebook will guide you through the fundamentals of Computational Fluid Dynamics (CFD) and provide a hands-on experience using ANSYS Fluent to simulate a classic fluid dynamics problem. \n",
    "I will give a short lecture on the underlying physics, but again, you only need to understand just enough to get started. \n",
    "\n",
    "**Target Audience:** This lesson is designed for students who are new to CFD and ANSYS Fluent."
   ]
  },
  {
   "cell_type": "markdown",
   "metadata": {},
   "source": [
    "### Prerequisites\n",
    "\n",
    "Before you begin, please ensure you have the following:\n",
    "\n",
    "1.  **ANSYS Fluent:** Version 2022 R2 or newer installed on your computer.\n",
    "2.  **Python:** Python 3.7 or later. The [Anaconda Distribution](https://www.anaconda.com/products/distribution) is highly recommended as it simplifies package management.\n",
    "3.  **Required Python Libraries:** You will need `ansys-fluent-core`, `pyvista`, and `matplotlib`. If you don't have them, you can install them by running the following command in your terminal or command prompt:\n",
    "\n",
    "    ```bash\n",
    "    pip install ansys-fluent-core pyvista matplotlib\n",
    "    ```\n",
    "4. **Read** the excerpt on basic fluid dynamics\n",
    "\n",
    "I will check that you have everything before we begin do not worry, this section is mostly for me to remember what I need to get you"
   ]
  },
  {
   "cell_type": "markdown",
   "metadata": {},
   "source": [
    "--- \n",
    "## Part 1: The Physics Behind the Simulation - What is CFD?\n",
    "\n",
    "Computational Fluid Dynamics (CFD) is a branch of fluid mechanics that uses numerical analysis and data structures to analyze and solve problems involving fluid flows. In short, we use computers to solve the governing equations of fluid motion for a specific problem.\n",
    "\n",
    "### The Governing Equations: Navier-Stokes\n",
    "\n",
    "At the heart of most CFD problems are the **Navier-Stokes equations**. These are a set of partial differential equations describing the motion of viscous fluid substances. They are built upon three fundamental principles of conservation:\n",
    "\n",
    "*   **Conservation of Mass:** Mass is never created or destroyed. For a fluid, this means that if flow enters a defined volume, it must also exit it (unless the density changes).\n",
    "*   **Conservation of Momentum:** This is Newton's Second Law (F=ma) for a fluid. It states that the rate of change of momentum of a fluid particle is equal to the sum of the forces acting on it (like pressure and friction).\n",
    "*   **Conservation of Energy:** Energy is never created or destroyed. This principle accounts for the transfer of heat and the work done on the fluid.\n",
    "\n",
    "Solving these equations by hand is only possible for very simple cases. CFD software like ANSYS Fluent solves them numerically over thousands or millions of small cells that make up the geometry of our problem."
   ]
  },
  {
   "cell_type": "markdown",
   "metadata": {},
   "source": [
    "--- \n",
    "## Part 2: The CFD Workflow\n",
    "\n",
    "A typical CFD simulation follows a standard workflow. We will automate this entire process using Python within this notebook.\n",
    "\n",
    "1.  **Preprocessing:**\n",
    "    *   **Geometry:** Defining the physical shape of the problem (e.g., a pipe, a wing, a heat exchanger).\n",
    "    *   **Meshing:** Dividing the geometry into thousands or millions of smaller elements called \"cells\". The governing equations are solved on these cells.\n",
    "\n",
    "2.  **Solving:**\n",
    "    *   **Setup:** Defining the physics of the problem (e.g., is the flow turbulent or smooth?), material properties (e.g., air, water), and boundary conditions (e.g., inlet velocity, outlet pressure).\n",
    "    *   **Solution:** The solver software iteratively calculates the solution for variables like velocity and pressure at each cell in the mesh until the solution is \"converged\" (meaning the solution is no longer changing significantly).\n",
    "\n",
    "3.  **Post-processing:**\n",
    "    *   **Analysis & Visualization:** Examining the results through plots, contours, and vectors to understand the fluid's behavior and extract meaningful data."
   ]
  },
  {
   "cell_type": "markdown",
   "metadata": {},
   "source": [
    "--- \n",
    "## Part 3: Interactive Simulation - Mixing Elbow\n",
    "Let's put theory into practice, We will simulate a common engineering problem: a mixing elbow! In this problem, a cold fluid enters from one inlet and a hot fluid enters from another. They mix in the elbow and exit through a single outlet. We will find the resulting temperature and velocity fields. It is one of THE most common engineering problems in all fields, especially aerospace and chemical!\n",
    "\n",
    "### Step 1: Launch Fluent and Import the Mesh\n",
    "First, we import the necessary libraries. `pyfluent` allows us to control Fluent from Python. Then, we will launch a Fluent session and load a pre-made mesh file."
   ]
  },
  {
   "cell_type": "code",
   "execution_count": null,
   "metadata": {},
   "outputs": [],
   "source": [
    "# Import necessary libraries\n",
    "import ansys.fluent.core as pyfluent\n",
    "from ansys.fluent.core import examples\n",
    "\n",
    "# Launch a Fluent session in the background.\n",
    "# This may take a few moments to start.\n",
    "# To see the Fluent application window, you can change show_gui to True.\n",
    "session = pyfluent.launch_fluent(show_gui=False, precision=\"double\", processor_count=2)\n",
    "\n",
    "# Download an example mesh file for a 3D mixing elbow\n",
    "import_filename = examples.download_file(\"mixing_elbow.msh.h5\", \"pyfluent/mixing_elbow\")\n",
    "\n",
    "# Read the mesh file into Fluent\n",
    "session.file.read_mesh(file_name=import_filename)\n",
    "\n",
    "print(\"Fluent session launched and mesh has been loaded.\")"
   ]
  },
  {
   "cell_type": "markdown",
   "metadata": {},
   "source": [
    "### Step 2: Setting up the Physics\n",
    "Now we need to tell Fluent about the physics. Our flow will be turbulent, so we will select an appropriate turbulence model. We also need to turn on the energy equation so we can simulate temperature."
   ]
  },
  {
   "cell_type": "code",
   "execution_count": null,
   "metadata": {},
   "outputs": [],
   "source": [
    "# Access the setup menu for easy access to settings\n",
    "setup = session.setup\n",
    "\n",
    "# Set the turbulence model. The k-epsilon model is a common choice.\n",
    "setup.models.viscous.model = \"k-epsilon\"\n",
    "\n",
    "# Turn on the energy equation to solve for temperature\n",
    "setup.models.energy.enabled = True\n",
    "\n",
    "print(\"Models set: k-epsilon turbulence and energy equation enabled.\")"
   ]
  },
  {
   "cell_type": "markdown",
   "metadata": {},
   "source": [
    "#### **Practice Question:**\n",
    "*What is the key difference between a laminar (smooth) flow and a turbulent (chaotic) flow? Why is it important to choose the correct model for a simulation?*"
   ]
  },
  {
   "cell_type": "markdown",
   "metadata": {},
   "source": [
    "### Step 3: Defining Boundary Conditions\n",
    "\n",
    "Boundary conditions (BCs) tell the solver how the fluid behaves at the edges (boundaries) of our domain. We need to set the velocity and temperature at our two inlets and the pressure at our outlet."
   ]
  },
  {
   "cell_type": "code",
   "execution_count": null,
   "metadata": {},
   "outputs": [],
   "source": [
    "# Access the boundary conditions menu\n",
    "boundary_conditions = setup.boundary_conditions\n",
    "\n",
    "# Set the cold inlet velocity (0.4 m/s) and temperature (293.15 K)\n",
    "boundary_conditions.velocity_inlet[\"cold-inlet\"].vmag = 0.4\n",
    "boundary_conditions.velocity_inlet[\"cold-inlet\"].t = 293.15\n",
    "\n",
    "# Set the hot inlet velocity (1.2 m/s) and temperature (313.15 K)\n",
    "boundary_conditions.velocity_inlet[\"hot-inlet\"].vmag = 1.2\n",
    "boundary_conditions.velocity_inlet[\"hot-inlet\"].t = 313.15\n",
    "\n",
    "# Set the outlet pressure to be atmospheric (0 Gauge Pressure)\n",
    "boundary_conditions.pressure_outlet[\"outlet\"].p_gauge = 0\n",
    "\n",
    "print(\"Boundary conditions have been set.\")\n",
    "print(f\"Cold Inlet: {boundary_conditions.velocity_inlet['cold-inlet'].vmag()} m/s, {boundary_conditions.velocity_inlet['cold-inlet'].t()} K\")\n",
    "print(f\"Hot Inlet: {boundary_conditions.velocity_inlet['hot-inlet'].vmag()} m/s, {boundary_conditions.velocity_inlet['hot-inlet'].t()} K\")"
   ]
  },
  {
   "cell_type": "markdown",
   "metadata": {},
   "source": [
    "#### **Practice Question:**\n",
    "*The walls of the elbow have a \"no-slip\" condition by default. What does this mean in terms of the fluid's velocity right at the wall surface?*"
   ]
  },
  {
   "cell_type": "markdown",
   "metadata": {},
   "source": [
    "### Step 4: Solving the Equations\n",
    "\n",
    "We are now ready to run the simulation! We will first initialize the flow field, which provides the solver with an initial guess. Then, we run the calculation for a set number of iterations. The solver will stop when the solution is stable, or \"converged\"."
   ]
  },
  {
   "cell_type": "code",
   "execution_count": null,
   "metadata": {},
   "outputs": [],
   "source": [
    "# Initialize the flow field using hybrid initialization\n",
    "session.solution.initialization.hybrid_initialize()\n",
    "\n",
    "print(\"Solution initialized. Starting calculation...\")\n",
    "\n",
    "# Run the calculation for 150 iterations\n",
    "session.solution.run_calculation.iterate(iter_count=150)\n",
    "\n",
    "print(\"Calculation complete!\")"
   ]
  },
  {
   "cell_type": "markdown",
   "metadata": {},
   "source": [
    "--- \n",
    "## Part 4: Post-processing and Analyzing the Results\n",
    "\n",
    "The simulation is finished! Now comes the fun part: visualizing the results to understand what happened inside the elbow.\n",
    "\n",
    "We will create contour plots to see the velocity and temperature distribution on a center plane of the elbow."
   ]
  },
  {
   "cell_type": "code",
   "execution_count": null,
   "metadata": {},
   "outputs": [],
   "source": [
    "# Access the post-processing and graphics tools\n",
    "results = session.results\n",
    "\n",
    "# Create a contour plot for temperature\n",
    "results.graphics.contour[\"temperature-contour\"] = {}\n",
    "temp_contour = results.graphics.contour[\"temperature-contour\"]\n",
    "temp_contour.field = \"temperature\"\n",
    "temp_contour.surfaces_list = [\"symmetry-xyplane\"]\n",
    "\n",
    "# Display the temperature contour plot\n",
    "# This will save an image file and then display it in the notebook.\n",
    "temp_contour.display(picture_options={\"x_resolution\": 1024, \"y_resolution\": 768})\n",
    "print(\"Temperature contour plot generated and displayed.\")"
   ]
  },
  {
   "cell_type": "code",
   "execution_count": null,
   "metadata": {},
   "outputs": [],
   "source": [
    "# Create a contour plot for velocity\n",
    "results.graphics.contour[\"velocity-contour\"] = {}\n",
    "vel_contour = results.graphics.contour[\"velocity-contour\"]\n",
    "vel_contour.field = \"velocity-magnitude\"\n",
    "vel_contour.surfaces_list = [\"symmetry-xyplane\"]\n",
    "\n",
    "# Display the velocity contour plot\n",
    "vel_contour.display(picture_options={\"x_resolution\": 1024, \"y_resolution\": 768})\n",
    "print(\"Velocity contour plot generated and displayed.\")"
   ]
  },
  {
   "cell_type": "markdown",
   "metadata": {},
   "source": [
    "#### **Practice Questions:**\n",
    "\n",
    "1.  Looking at the temperature plot, do the hot and cold fluids appear to be well-mixed by the time they reach the outlet? How can you tell?\n",
    "2.  In the velocity plot, where is the velocity the highest? Why do you think this is the case? (Hint: Think about the shape of the pipe and conservation of mass)."
   ]
  },
  {
   "cell_type": "markdown",
   "metadata": {},
   "source": [
    "### Step 5: Clean up\n",
    "\n",
    "Finally, it's good practice to close the Fluent session to release the license and computer resources."
   ]
  },
  {
   "cell_type": "code",
   "execution_count": null,
   "metadata": {},
   "outputs": [],
   "source": [
    "# Close the Fluent session\n",
    "session.exit()\n",
    "print(\"Fluent session closed.\")"
   ]
  },
  {
   "cell_type": "markdown",
   "metadata": {},
   "source": [
    "--- \n",
    "## Conclusion & Further Exploration\n",
    "\n",
    "Congratulations! You have successfully completed a full CFD simulation using ANSYS Fluent entirely from Python. You have:\n",
    "*   Learned the fundamental physical principles behind CFD.\n",
    "*   Walked through the standard CFD workflow: Preprocessing, Solving, and Post-processing.\n",
    "*   Interactively simulated a mixing elbow problem.\n",
    "*   Visualized and analyzed the results to understand fluid behavior.\n",
    "\n",
    "You are VERY far ahead\n",
    "\n",
    "#### **Ideas to Explore Next:**\n",
    "*   **Change the BCs:** Go back to Step 3, change the inlet velocities or temperatures, and rerun the simulation to see how it affects the mixing.\n",
    "*   **Change the Fluid:** The default fluid is air. You can try changing it to water (`setup.materials.database.copy_by_name(type=\"fluid\", name=\"water-liquid\")` and applying it to the fluid zone) to see how the properties of the fluid impact the result.\n",
    "*   **Generate XY Plots:** Use Fluent's plotting tools to create a graph of temperature along the centerline of the pipe at the outlet."
   ]
  }
 ],
 "metadata": {
  "kernelspec": {
   "display_name": "Python 3",
   "language": "python",
   "name": "python3"
  },
  "language_info": {
   "codemirror_mode": {
    "name": "ipython",
    "version": 3
   },
   "file_extension": ".py",
   "mimetype": "text/x-python",
   "name": "python",
   "nbconvert_exporter": "python",
   "pygments_lexer": "ipython3",
   "version": "3.8.8"
  }
 },
 "nbformat": 4,
 "nbformat_minor": 4
}
