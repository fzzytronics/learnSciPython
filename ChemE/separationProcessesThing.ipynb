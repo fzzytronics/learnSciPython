{
 "cells": [
  {
   "cell_type": "markdown",
   "metadata": {},
   "source": [
    "# Separations Processes: Designing a Distillation Column with McCabe-Thiele\n",
    "\n",
    "**Objective:** This lesson provides a hands-on guide to designing a binary distillation column using the graphical McCabe-Thiele method. We will translate the graphical method into a computational algorithm to determine the number of theoretical stages required for a specific separation.\n",
    "\n",
    "**Learning Goals:**\n",
    "1.  Understand the core concepts of Vapor-Liquid Equilibrium (VLE) for binary systems.\n",
    "2.  Derive and understand the meaning of the Operating Lines (Rectifying and Stripping) and the Feed Line (q-line).\n",
    "3.  Construct a complete McCabe-Thiele diagram programmatically.\n",
    "4.  Implement an algorithm to \"step off\" the theoretical stages and find the optimal feed location.\n",
    "5.  Analyze how key design parameters, like the reflux ratio and feed condition, impact the column design."
   ]
  },
  {
   "cell_type": "markdown",
   "metadata": {},
   "source": [
    "## The Problem: Binary Distillation\n",
    "\n",
    "Distillation is the most widely used separation technique in the chemical industry. It works by exploiting differences in **volatility** between components in a liquid mixture. We will design a column to separate a mixture of a more volatile component (MVC) and a less volatile component (LVC).\n",
    "\n",
    "![Distillation Column Diagram](https://www.shutterstock.com/image-vector/vector-illustration-distillation-column-eps10-600nw-2207077179.jpg)\n",
    "\n",
    "**Our Goal:** Given a feed stream with a certain composition ($z_F$) and thermal condition ($q$), we want to produce a high-purity **distillate** ($x_D$) rich in the MVC and a high-purity **bottoms** ($x_B$) rich in the LVC. Our task is to calculate the **number of theoretical stages** required to achieve this separation at a given **reflux ratio ($R$)**."
   ]
  },
  {
   "cell_type": "markdown",
   "metadata": {},
   "source": [
    "## Part 1: The Physics - Vapor-Liquid Equilibrium (VLE)\n",
    "\n",
    "The foundation of the McCabe-Thiele method is the **equilibrium curve**, which plots the vapor mole fraction ($y$) versus the liquid mole fraction ($x$) for the more volatile component. For many ideal systems, this relationship can be described using a **constant relative volatility ($\\alpha$)**.\n",
    "$$ y = \\frac{\\alpha x}{1 + (\\alpha - 1)x} $$\n",
    "A higher $\\alpha$ means the separation is easier. The equilibrium curve always lies above the $y=x$ line (also called the 45-degree line)."
   ]
  },
  {
   "cell_type": "markdown",
   "metadata": {},
   "source": [
    "## Part 2: The Model - Operating & Feed Lines\n",
    "\n",
    "While the equilibrium curve describes the thermodynamics on each stage, **operating lines** describe the bulk movement of liquid and vapor between stages, based on mass balances.\n",
    "\n",
    "**1. Rectifying Section (Top) Operating Line (ROL):** This relates the compositions of vapor ($y_{n+1}$) rising from a stage to the liquid ($x_n$) entering it in the section above the feed. Its equation depends on the **reflux ratio ($R$)** and the **distillate composition ($x_D$)**.\n",
    "$$ y_{n+1} = \\frac{R}{R+1}x_n + \\frac{1}{R+1}x_D $$\n",
    "\n",
    "**2. Stripping Section (Bottom) Operating Line (SOL):** This describes the section below the feed. It relates to the **bottoms composition ($x_B$)**.\n",
    "\n",
    "**3. Feed Line (q-line):** This line represents the locus of all possible intersection points of the two operating lines. Its slope is determined by the thermal condition of the feed, $q$.\n",
    "$$ y = \\frac{q}{q-1}x - \\frac{z_F}{q-1} $$\n",
    "*   $q=1$: Saturated Liquid (vertical line)\n",
    "*   $q=0$: Saturated Vapor (horizontal line)\n",
    "*   $0 < q < 1$: Two-phase mixture\n",
    "*   $q > 1$: Subcooled liquid\n",
    "*   $q < 0$: Superheated vapor"
   ]
  },
  {
   "cell_type": "markdown",
   "metadata": {},
   "source": [
    "## Part 3: Python Implementation and Diagram Construction"
   ]
  },
  {
   "cell_type": "code",
   "execution_count": null,
   "metadata": {},
   "outputs": [],
   "source": [
    "# Import necessary libraries\n",
    "import numpy as np\n",
    "import matplotlib.pyplot as plt\n",
    "\n",
    "# --- Define System Parameters ---\n",
    "# VLE Data\n",
    "alpha = 2.5       # Relative volatility of the MVC\n",
    "\n",
    "# Feed and Product Specifications\n",
    "zF = 0.50         # Mole fraction of MVC in feed\n",
    "xD = 0.95         # Desired mole fraction of MVC in distillate\n",
    "xB = 0.05         # Desired mole fraction of MVC in bottoms\n",
    "\n",
    "# Operating Conditions\n",
    "R = 2.0           # Reflux Ratio (L/D)\n",
    "q = 1.0           # Feed quality (q=1 means saturated liquid feed)\n",
    "\n",
    "print(\"System parameters are defined.\")"
   ]
  },
  {
   "cell_type": "code",
   "execution_count": null,
   "metadata": {},
   "outputs": [],
   "source": [
    "# --- Define Functions for Each Line ---\n",
    "\n",
    "def equilibrium_curve(x, alpha):\n",
    "    \"\"\"Calculates y from x based on relative volatility.\"\"\"\n",
    "    return alpha * x / (1 + (alpha - 1) * x)\n",
    "\n",
    "def rol(x, R, xD):\n",
    "    \"\"\"Rectifying Operating Line equation.\"\"\"\n",
    "    return (R / (R + 1)) * x + (xD / (R + 1))\n",
    "\n",
    "def q_line(x, zF, q):\n",
    "    \"\"\"q-line equation.\"\"\"\n",
    "    # Handle the vertical line case for q=1\n",
    "    if abs(q - 1.0) < 1e-6:\n",
    "        return np.linspace(0, 1, 100) # Placeholder, handled in plotting\n",
    "    return (q / (q - 1)) * x - (zF / (q - 1))\n",
    "\n",
    "# --- Calculate Operating Line Intersections ---\n",
    "# Find the intersection of the ROL and the q-line\n",
    "# This point defines where the two operating lines meet\n",
    "# We solve: rol(x) = q_line(x) for x\n",
    "A = (R / (R + 1)) - (q / (q - 1))\n",
    "B = (zF / (q - 1)) + (xD / (R + 1))\n",
    "x_intersect = B / A\n",
    "y_intersect = rol(x_intersect, R, xD)\n",
    "\n",
    "# The SOL connects (xB, xB) to the intersection point\n",
    "m_sol = (y_intersect - xB) / (x_intersect - xB)\n",
    "def sol(x, m_sol, xB):\n",
    "    \"\"\"Stripping Operating Line equation.\"\"\"\n",
    "    return m_sol * (x - xB) + xB\n",
    "\n",
    "print(\"Line functions and intersection points calculated.\")"
   ]
  },
  {
   "cell_type": "markdown",
   "metadata": {},
   "source": [
    "## Part 4: Stepping Off the Stages\n",
    "\n",
    "Now for the exciting part. We will start at the top of the column (at $x=x_D$) and computationally trace the staircase down to the bottom ($x_B$), counting the steps. Each step represents one theoretical equilibrium stage."
   ]
  },
  {
   "cell_type": "code",
   "execution_count": null,
   "metadata": {},
   "outputs": [],
   "source": [
    "# --- Stage Calculation Algorithm ---\n",
    "\n",
    "x_steps = [xD]  # Start with the distillate composition\n",
    "y_steps = [xD]\n",
    "\n",
    "num_stages = 0\n",
    "feed_stage = 0\n",
    "\n",
    "x_current = xD\n",
    "y_current = xD\n",
    "\n",
    "while x_current > xB:\n",
    "    num_stages += 1\n",
    "    \n",
    "    # Horizontal step: from operating line to equilibrium curve\n",
    "    # We need to find the x that gives y_current on the eq. curve\n",
    "    # y = alpha*x / (1 + (alpha-1)x) -> x = y / (alpha - y*(alpha-1))\n",
    "    x_next = y_current / (alpha - y_current * (alpha - 1))\n",
    "    x_steps.extend([x_next, x_next])\n",
    "    y_steps.extend([y_current, y_current])\n",
    "\n",
    "    # Vertical step: from equilibrium curve to the next operating line\n",
    "    # Check if we have crossed the feed stage intersection point\n",
    "    if x_next > x_intersect:\n",
    "        y_next = rol(x_next, R, xD)\n",
    "    else:\n",
    "        # Record the feed stage the first time we switch operating lines\n",
    "        if feed_stage == 0:\n",
    "            feed_stage = num_stages\n",
    "        y_next = sol(x_next, m_sol, xB)\n",
    "        \n",
    "    x_steps.append(x_next)\n",
    "    y_steps.append(y_next)\n",
    "    \n",
    "    # Update current position for the next loop\n",
    "    x_current = x_next\n",
    "    y_current = y_next\n",
    "\n",
    "print(f\"Calculation Complete!\")\n",
    "print(f\"  - Total Theoretical Stages (including reboiler): {num_stages}\")\n",
    "print(f\"  - Optimal Feed Stage: {feed_stage}\")"
   ]
  },
  {
   "cell_type": "markdown",
   "metadata": {},
   "source": [
    "## Part 5: The Final Diagram and Analysis\n",
    "\n",
    "Let's visualize the entire construction."
   ]
  },
  {
   "cell_type": "code",
   "execution_count": null,
   "metadata": {},
   "outputs": [],
   "source": [
    "# --- Plotting the McCabe-Thiele Diagram ---\n",
    "plt.style.use('seaborn-v0_8-whitegrid')\n",
    "plt.figure(figsize=(10, 10))\n",
    "\n",
    "# Generate x-values for smooth curves\n",
    "x_range = np.linspace(0, 1, 100)\n",
    "\n",
    "# Plot the equilibrium curve and y=x line\n",
    "plt.plot(x_range, equilibrium_curve(x_range, alpha), label='Equilibrium Curve')\n",
    "plt.plot(x_range, x_range, 'k-', label='y=x')\n",
    "\n",
    "# Plot the operating lines\n",
    "plt.plot([xB, x_intersect], [xB, y_intersect], 'g-', label='Stripping Op. Line')\n",
    "plt.plot([x_intersect, xD], [y_intersect, xD], 'r-', label='Rectifying Op. Line')\n",
    "\n",
    "# Plot the q-line\n",
    "if abs(q - 1.0) < 1e-6:\n",
    "    plt.plot([zF, zF], [zF, rol(zF, R, xD)], 'm--', label='q-line (Sat. Liquid)')\n",
    "else:\n",
    "    plt.plot([zF, x_intersect], [zF, y_intersect], 'm--', label='q-line')\n",
    "\n",
    "# Plot the stepped-off stages\n",
    "plt.plot(x_steps, y_steps, 'b-', label=f'{num_stages} Stages')\n",
    "\n",
    "# Formatting\n",
    "plt.title('McCabe-Thiele Diagram for Binary Distillation', fontsize=16, weight='bold')\n",
    "plt.xlabel('Liquid Mole Fraction, x (MVC)', fontsize=12)\n",
    "plt.ylabel('Vapor Mole Fraction, y (MVC)', fontsize=12)\n",
    "plt.xlim(0, 1)\n",
    "plt.ylim(0, 1)\n",
    "plt.legend()\n",
    "plt.grid(True, which='both', linestyle='--', linewidth=0.5)\n",
    "plt.gca().set_aspect('equal', adjustable='box')\n",
    "plt.show()"
   ]
  },
  {
   "cell_type": "markdown",
   "metadata": {},
   "source": [
    "## Part 6: You are the Separations Engineer!\n",
    "\n",
    "The most important part of process design is understanding trade-offs. Use this simulation to explore them. Modify the **Operating Conditions** in **Part 3** and re-run all the cells.\n",
    "\n",
    "#### Challenge 1: The Reflux Ratio Trade-off\n",
    "Increase the **Reflux Ratio ($R$)** from `2.0` to `4.0`. \n",
    "*Before you run, predict*: What will happen to the Rectifying Operating Line? Will you need more or fewer stages to achieve the same separation? What is the downside of a higher reflux ratio in a real plant? (Hint: think about the energy required to boil the liquid for the reflux).\n",
    "\n",
    "#### Challenge 2: The Minimum Number of Stages\n",
    "What is the absolute minimum number of stages required for this separation? This occurs at **total reflux**, where $R$ is infinite. You can simulate this by setting $R$ to a very large number, like `10000`. What happens to the operating lines in this case?\n",
    "\n",
    "#### Challenge 3: Effect of Feed Quality\n",
    "Reset $R$ to 2.0. Now, change the feed from a saturated liquid ($q=1.0$) to a **50/50 vapor-liquid mixture ($q=0.5$)**. \n",
    "*Predict*: How will the slope and position of the q-line change? Will this change the number of stages required?"
   ]
  }
 ],
 "metadata": {
  "kernelspec": {
   "display_name": "Python 3",
   "language": "python",
   "name": "python3"
  },
  "language_info": {
   "codemirror_mode": {
    "name": "ipython",
    "version": 3
   },
   "file_extension": ".py",
   "mimetype": "text/x-python",
   "name": "python",
   "nbconvert_exporter": "python",
   "pygments_lexer": "ipython3",
   "version": "3.9.7"
  }
 },
 "nbformat": 4,
 "nbformat_minor": 4
}
