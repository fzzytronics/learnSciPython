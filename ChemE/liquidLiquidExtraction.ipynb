{
 "cells": [
  {
   "cell_type": "markdown",
   "metadata": {},
   "source": [
    "# Mass Transfer Lesson: Designing a Liquid-Liquid Extraction Cascade\n",
    "\n",
    "**Objective:** This lesson will guide you through the design of a multi-stage, counter-current liquid-liquid extraction (LLE) process. We will use a stage-by-stage calculation method, analogous to McCabe-Thiele, to determine the number of theoretical stages needed.\n",
    "\n",
    "**Learning Goals:**\n",
    "1.  Understand the principles of LLE and the role of the partition coefficient.\n",
    "2.  Derive and apply the operating line equation for a counter-current cascade.\n",
    "3.  Construct a graphical representation of the LLE process (an x-y diagram).\n",
    "4.  Implement a computational algorithm to step off the theoretical stages.\n",
    "5.  Analyze how changing the solvent-to-feed ratio impacts the separation."
   ]
  },
  {
   "cell_type": "markdown",
   "metadata": {},
   "source": [
    "## The Process: Counter-Current Extraction\n",
    "\n",
    "We have a **feed** stream containing a valuable **solute (A)** dissolved in a **carrier (C)**. We want to extract the solute using a **solvent (S)** that is immiscible with the carrier. The solute-depleted carrier stream leaving is called the **raffinate**, and the solute-rich solvent stream leaving is called the **extract**.\n",
    "\n",
    "In a counter-current cascade, the feed enters at one end (Stage 1) and the solvent enters at the other (Stage N). This is the most efficient configuration.\n",
    "\n",
    "![LLE Diagram](https://ars.els-cdn.com/content/image/3-s2.0-B9780080966595000037-f03-12-9780080966595.jpg)\n",
    "\n",
    "**Our Goal:** To reduce the concentration of solute in the feed down to a target concentration in the final raffinate, determine how many theoretical stages are required."
   ]
  },
  {
   "cell_type": "markdown",
   "metadata": {},
   "source": [
    "## The Model: Equilibrium and Operating Lines\n",
    "\n",
    "Let $x$ be the mass fraction of solute in the raffinate phase (carrier + solute) and $y$ be the mass fraction in the extract phase (solvent + solute). For this simplified model, we will assume the carrier and solvent are completely immiscible.\n",
    "\n",
    "**1. Equilibrium Line:** The thermodynamic relationship between the phases at equilibrium. We will assume a constant **Partition Coefficient ($K_D$)**.\n",
    "$$ y = K_D x $$\n",
    "\n",
    "**2. Operating Line:** Derived from a mass balance. It relates the concentration of the raffinate stream entering a stage to the extract stream leaving that same stage.\n",
    "$$ y_{n} = \\frac{L_s}{V_s} (x_{n-1} - x_{N}) + y_{N+1} $$\n",
    "Where $L_s$ is the carrier flow rate (kg/hr), $V_s$ is the solvent flow rate (kg/hr), $x_N$ is the final raffinate concentration, and $y_{N+1}$ is the fresh solvent concentration (usually 0)."
   ]
  },
  {
   "cell_type": "code",
   "execution_count": null,
   "metadata": {},
   "outputs": [],
   "source": [
    "import numpy as np\n",
    "import matplotlib.pyplot as plt\n",
    "\n",
    "# --- Define System Parameters ---\n",
    "F = 100.0         # Feed flow rate (kg/hr) - Carrier + Solute\n",
    "S = 150.0         # Solvent flow rate (kg/hr)\n",
    "xF = 0.20         # Mass fraction of solute in Feed\n",
    "xN_target = 0.01  # Desired mass fraction of solute in final Raffinate\n",
    "yS = 0.00         # Mass fraction of solute in fresh Solvent\n",
    "\n",
    "# Equilibrium Data\n",
    "KD = 5.0          # Partition Coefficient (y/x)\n",
    "\n",
    "print(\"System parameters are defined.\")"
   ]
  },
  {
   "cell_type": "code",
   "execution_count": null,
   "metadata": {},
   "outputs": [],
   "source": [
    "# --- Stage Calculation Algorithm ---\n",
    "\n",
    "# Calculate the flow rates of the pure carrier and pure solvent (assumed constant)\n",
    "Ls = F * (1 - xF) # Carrier flow rate\n",
    "Vs = S * (1 - yS) # Solvent flow rate\n",
    "\n",
    "# Overall material balance on the solute to find the exit extract concentration, y1\n",
    "# F*xF + S*yS = (Ls + Ls*xN)*xN + (Vs + Vs*y1)*y1 -- this is too complex\n",
    "# Simpler balance: Solute_in = Solute_out\n",
    "# F*xF + S*yS = (Ls*xN_target/(1-xN_target)) + (Vs*y1/(1-y1))\n",
    "# Let's use mass flows: F_solute_in = R_solute_out + E_solute_out\n",
    "# F*xF = Ls*xN_target + Vs*y1  (This is an approximation assuming x and y are small)\n",
    "y1 = (F * xF - Ls * xN_target) / Vs\n",
    "\n",
    "# Setup for stepping off stages graphically\n",
    "x_steps = []\n",
    "y_steps = []\n",
    "num_stages = 0\n",
    "\n",
    "# Start at stage 1 (feed end)\n",
    "y_current = y1\n",
    "x_current = y_current / KD # x1 is in equilibrium with y1\n",
    "x_steps.extend([x_current])\n",
    "y_steps.extend([y_current])\n",
    "\n",
    "while x_current > xN_target:\n",
    "    num_stages += 1\n",
    "    \n",
    "    # Point on the operating line\n",
    "    # y_n+1 = (Ls/Vs)*(x_n - xN) + y_N+1\n",
    "    # We know x_n, we need to find y_n+1\n",
    "    y_next = (Ls/Vs)*(x_current - xN_target) + yS\n",
    "    x_steps.extend([x_current, x_current])\n",
    "    y_steps.extend([y_current, y_next])\n",
    "    \n",
    "    # Point on the equilibrium line\n",
    "    y_current = y_next\n",
    "    x_current = y_current / KD\n",
    "    x_steps.extend([x_current])\n",
    "    y_steps.extend([y_current])\n",
    "    \n",
    "    # Safety break\n",
    "    if num_stages > 50:\n",
    "        print(\"Exceeded 50 stages, breaking loop.\")\n",
    "        break\n",
    "\n",
    "print(f\"Calculation Complete! Required theoretical stages: {num_stages}\")"
   ]
  },
  {
   "cell_type": "code",
   "execution_count": null,
   "metadata": {},
   "outputs": [],
   "source": [
    "# --- Plotting the LLE Diagram ---\n",
    "plt.style.use('seaborn-v0_8-whitegrid')\n",
    "plt.figure(figsize=(10, 10))\n",
    "\n",
    "# Define range for lines\n",
    "x_range = np.linspace(0, 0.25, 100)\n",
    "y_range_eq = KD * x_range\n",
    "\n",
    "# Operating Line: connects (xN, yS) to (x1, y1)\n",
    "x1 = y1 / KD\n",
    "op_line_x = [xN_target, x1]\n",
    "op_line_y = [yS, y1]\n",
    "\n",
    "plt.plot(x_range, y_range_eq, 'b-', label=f'Equilibrium Line (K_D={KD})')\n",
    "plt.plot(op_line_x, op_line_y, 'g-', label='Operating Line')\n",
    "plt.plot(x_steps, y_steps, 'r-o', markersize=4, label=f'{num_stages} Stages')\n",
    "\n",
    "# Formatting\n",
    "plt.title('LLE Counter-Current Cascade Design', fontsize=16, weight='bold')\n",
    "plt.xlabel('Mass Fraction in Raffinate, x', fontsize=12)\n",
    "plt.ylabel('Mass Fraction in Extract, y', fontsize=12)\n",
    "plt.xlim(0, x1 * 1.1)\n",
    "plt.ylim(0, y1 * 1.1)\n",
    "plt.legend()\n",
    "plt.grid(True)\n",
    "plt.gca().set_aspect('equal', adjustable='box')\n",
    "plt.show()"
   ]
  },
  {
   "cell_type": "markdown",
   "metadata": {},
   "source": [
    "## Student Challenges\n",
    "\n",
    "1.  **Solvent Flow Rate:** The ratio of solvent to feed is a key design parameter. **Increase the solvent flow rate `S` to `250.0` kg/hr.** Do you need more or fewer stages? What is the practical downside of using more solvent in a real plant (hint: think about having to process the extract stream later)?\n",
    "2.  **A Better Solvent:** Your R&D department finds a new solvent with a higher affinity for the solute, giving it a **Partition Coefficient `KD` of `8.0`.** How does this impact the number of stages required to achieve the same separation?\n",
    "3.  **Minimum Solvent Rate:** There is a minimum solvent rate below which the desired separation is impossible, no matter how many stages you have. This occurs when the operating line intersects the equilibrium line. Can you find this minimum solvent rate for the base case?"
   ]
  }
 ],
 "metadata": {
  "kernelspec": {
   "display_name": "Python 3",
   "language": "python",
   "name": "python3"
  },
  "language_info": {
   "codemirror_mode": {
    "name": "ipython",
    "version": 3
   },
   "file_extension": ".py",
   "mimetype": "text/x-python",
   "name": "python",
   "nbconvert_exporter": "python",
   "pygments_lexer": "ipython3",
   "version": "3.9.7"
  }
 },
 "nbformat": 4,
 "nbformat_minor": 4
}