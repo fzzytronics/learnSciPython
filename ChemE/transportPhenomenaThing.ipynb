{
 "cells": [
  {
   "cell_type": "markdown",
   "metadata": {},
   "source": [
    "# A Transport Phenomena Case Study: Heat Transfer in a Pipe\n",
    "\n",
    "**Objective:** This lesson will walk through a classic transport phenomena problem that combines fluid mechanics, heat transfer, and an overall energy balance. We will simulate the temperature profile of a fluid as it heats up while flowing through a hot-walled pipe.\n",
    "\n",
    "**Learning Goals:**\n",
    "1.  Understand the interplay between Momentum Transport (fluid flow) and Heat Transport.\n",
    "2.  Apply key dimensionless numbers: Reynolds ($Re$), Prandtl ($Pr$), and Nusselt ($Nu$).\n",
    "3.  Calculate the convective heat transfer coefficient ($h$) using empirical correlations.\n",
    "4.  Develop a dynamic model based on a differential energy balance along the pipe.\n",
    "5.  Solve the resulting Ordinary Differential Equation (ODE) to find the temperature profile and validate it against the analytical solution."
   ]
  },
  {
   "cell_type": "markdown",
   "metadata": {},
   "source": [
    "## The Problem: The Double-Pipe Heat Exchanger\n",
    "\n",
    "Imagine a simple heat exchanger where a cold fluid flows through the inner pipe, while steam condenses on the outside of the pipe, keeping the outer wall at a constant, high temperature. We want to determine the temperature of the cold fluid as it travels along the length of the pipe.\n",
    "\n",
    "![Pipe Flow Diagram](https://cdn.thomasnet.com/insights-images/embedded-images/e1606558-2a39-43dd-891b-3e450877b1e8/cd5ad77a-b29f-4eb8-a526-8844595493ae/FullHD/Heat-Transfer-in-a-Double-Pipe-Heat-Exchanger.jpg)\n",
    "\n",
    "To solve this, we need to answer a key question: **How quickly does heat get from the hot wall into the moving fluid?** The answer lies in the convective heat transfer coefficient, $h$."
   ]
  },
  {
   "cell_type": "markdown",
   "metadata": {},
   "source": [
    "## Part 1: Momentum Transport - Characterizing the Flow\n",
    "\n",
    "First, we need to understand the nature of the fluid flow. Is it smooth and orderly (laminar) or chaotic and well-mixed (turbulent)? This is determined by the **Reynolds Number ($Re$)**, which is the ratio of inertial forces to viscous forces.\n",
    "$$ Re = \\frac{\\rho v D}{\\mu} $$\n",
    "where:\n",
    "*   $\\rho$ = fluid density (kg/m³)\n",
    "*   $v$ = average fluid velocity (m/s)\n",
    "*   $D$ = pipe diameter (m)\n",
    "*   $\\mu$ = fluid viscosity (Pa·s)\n",
    "\n",
    "For pipe flow, the general rules are:\n",
    "*   $Re < 2100$: Laminar Flow\n",
    "*   $Re > 4000$: Turbulent Flow\n",
    "\n",
    "The flow regime is critical because it dramatically affects the heat transfer. Turbulent flow is a much more effective way to transfer heat."
   ]
  },
  {
   "cell_type": "markdown",
   "metadata": {},
   "source": [
    "## Part 2: Heat Transport - Quantifying Heat Transfer\n",
    "\n",
    "To find the heat transfer coefficient, $h$, we use other dimensionless numbers. \n",
    "\n",
    "**1. The Prandtl Number ($Pr$)** is a fluid property that relates momentum diffusivity to thermal diffusivity.\n",
    "$$ Pr = \\frac{C_p \\mu}{k_f} $$\n",
    "where $C_p$ is the fluid heat capacity and $k_f$ is the fluid thermal conductivity.\n",
    "\n",
    "**2. The Nusselt Number ($Nu$)** is the ratio of convective heat transfer to conductive heat transfer. It's the dimensionless heat transfer coefficient. \n",
    "$$ Nu = \\frac{h D}{k_f} $$\n",
    "\n",
    "The key is that there are well-established empirical correlations that relate the Nusselt number to the Reynolds and Prandtl numbers. For turbulent flow in a pipe, a common one is the **Gnielinski Correlation**:\n",
    "$$ Nu_D = \\frac{(f_D/8)(Re_D - 1000)Pr}{1 + 12.7(f_D/8)^{1/2}(Pr^{2/3}-1)} $$\n",
    "where $f_D$ is the Darcy friction factor, another key parameter from momentum transport."
   ]
  },
  {
   "cell_type": "markdown",
   "metadata": {},
   "source": [
    "## Part 3: The Overall Model - Differential Energy Balance\n",
    "\n",
    "Consider a small, differential slice of the pipe of length $dz$. The rate of heat entering this slice from the wall must equal the rate at which the fluid's energy increases.\n",
    "\n",
    "**Heat in from wall ($dQ$):**\n",
    "$$ dQ = h \\cdot (\\text{Surface Area}) \\cdot (T_{wall} - T_{fluid}) = h \\cdot (\\pi D \\, dz) \\cdot (T_{wall} - T) $$\n",
    "\n",
    "**Energy increase of fluid (rate of change of enthalpy):**\n",
    "$$ dQ = \\dot{m} C_p \\, dT $$\n",
    "where $\\dot{m}$ is the mass flow rate.\n",
    "\n",
    "Setting these equal:\n",
    "$$ \\dot{m} C_p \\, dT = h \\pi D (T_{wall} - T) \\, dz $$\n",
    "\n",
    "Rearranging gives our final ODE for the temperature $T$ as a function of position $z$:\n",
    "$$ \\frac{dT}{dz} = \\frac{h \\pi D}{\\dot{m} C_p} (T_{wall} - T) $$"
   ]
  },
  {
   "cell_type": "markdown",
   "metadata": {},
   "source": [
    "## Part 4: Python Implementation and Simulation"
   ]
  },
  {
   "cell_type": "code",
   "execution_count": null,
   "metadata": {},
   "outputs": [],
   "source": [
    "# Import necessary libraries\n",
    "import numpy as np\n",
    "from scipy.integrate import solve_ivp\n",
    "import matplotlib.pyplot as plt\n",
    "\n",
    "# --- Define Physical Properties for Water at ~40 C ---\n",
    "rho = 992.2      # Density (kg/m^3)\n",
    "mu = 0.653e-3    # Viscosity (Pa.s)\n",
    "Cp = 4179        # Heat Capacity (J/kg.K)\n",
    "kf = 0.631       # Thermal Conductivity (W/m.K)\n",
    "\n",
    "# --- Define Geometry and Operating Conditions ---\n",
    "D = 0.05         # Pipe Diameter (m)\n",
    "L = 20.0         # Pipe Length (m)\n",
    "mass_flow = 1.0  # Mass flow rate (kg/s)\n",
    "T_inlet = 20.0     # Inlet fluid temperature (C)\n",
    "T_wall = 100.0     # Pipe wall temperature (C)\n",
    "\n",
    "print(\"Parameters are defined.\")"
   ]
  },
  {
   "cell_type": "code",
   "execution_count": null,
   "metadata": {},
   "outputs": [],
   "source": [
    "# --- Transport Phenomena Calculations ---\n",
    "\n",
    "# 1. Calculate velocity and Reynolds number\n",
    "Area = np.pi * (D**2) / 4\n",
    "velocity = mass_flow / (rho * Area)\n",
    "Re = (rho * velocity * D) / mu\n",
    "\n",
    "# 2. Calculate Darcy Friction Factor (using Churchill Equation, valid for all regimes)\n",
    "A_f = (2.457 * np.log(1 / ((7/Re)**0.9)))**16\n",
    "B_f = (37530 / Re)**16\n",
    "f_D = 8 * ((8/Re)**12 + 1 / (A_f + B_f)**1.5)**(1/12)\n",
    "\n",
    "# 3. Calculate Prandtl and Nusselt numbers\n",
    "Pr = (Cp * mu) / kf\n",
    "Nu = ((f_D/8)*(Re-1000)*Pr) / (1 + 12.7*(f_D/8)**0.5 * (Pr**(2/3)-1)) # Gnielinski\n",
    "\n",
    "# 4. Calculate the all-important heat transfer coefficient, h\n",
    "h = (Nu * kf) / D\n",
    "\n",
    "print(f\"Calculated Reynolds Number: {Re:.0f} (Turbulent Flow)\")\n",
    "print(f\"Calculated Heat Transfer Coefficient (h): {h:.2f} W/m^2.K\")"
   ]
  },
  {
   "cell_type": "code",
   "execution_count": null,
   "metadata": {},
   "outputs": [],
   "source": [
    "# --- Define and Solve the ODE Model ---\n",
    "\n",
    "def pipe_heat_model(z, T):\n",
    "    \"\"\"\n",
    "    Defines the ODE for fluid temperature along the pipe.\n",
    "    Args:\n",
    "        z (float): Position along the pipe (m).\n",
    "        T (float): Fluid temperature at position z (C).\n",
    "    \"\"\"\n",
    "    # Note: For simplicity, we assume h is constant along the pipe.\n",
    "    # In reality, fluid properties (rho, mu, etc.) change with T, making h(z).\n",
    "    # This is a common and valid simplification for many problems.\n",
    "    \n",
    "    dTdz = (h * np.pi * D) / (mass_flow * Cp) * (T_wall - T)\n",
    "    return dTdz\n",
    "\n",
    "# Simulation parameters\n",
    "z_span = (0, L)              # Solve from z=0 to z=L\n",
    "T_initial = [T_inlet]        # Initial condition (temperature at z=0)\n",
    "\n",
    "# Call the solver\n",
    "solution = solve_ivp(pipe_heat_model, z_span, T_initial, dense_output=True)\n",
    "\n",
    "# Generate points for a smooth plot\n",
    "z_plot = np.linspace(z_span[0], z_span[1], 100)\n",
    "T_plot = solution.sol(z_plot)[0]\n",
    "\n",
    "print(\"ODE Simulation complete.\")"
   ]
  },
  {
   "cell_type": "markdown",
   "metadata": {},
   "source": [
    "## Part 5: Analysis and Validation\n",
    "\n",
    "Let's plot our simulation result. A key feature should be that the fluid temperature rises and asymptotically approaches the wall temperature."
   ]
  },
  {
   "cell_type": "code",
   "execution_count": null,
   "metadata": {},
   "outputs": [],
   "source": [
    "# --- Validation with Analytical Solution ---\n",
    "# This ODE has a known analytical solution, which is great for checking our work.\n",
    "exp_term = np.exp(-(h * np.pi * D * z_plot) / (mass_flow * Cp))\n",
    "T_analytical = T_wall - (T_wall - T_inlet) * exp_term\n",
    "\n",
    "# --- Plotting ---\n",
    "plt.style.use('seaborn-v0_8-whitegrid')\n",
    "plt.figure(figsize=(12, 7))\n",
    "\n",
    "plt.plot(z_plot, T_plot, 'b-', linewidth=3, label='Numerical Simulation (ODE Solver)')\n",
    "plt.plot(z_plot, T_analytical, 'r--', linewidth=2, label='Analytical Solution')\n",
    "plt.axhline(y=T_wall, color='black', linestyle=':', label=f'Wall Temperature ({T_wall} C)')\n",
    "\n",
    "plt.title('Fluid Temperature Profile Along Pipe', fontsize=18, weight='bold')\n",
    "plt.xlabel('Position along pipe, z (m)', fontsize=14)\n",
    "plt.ylabel('Fluid Temperature (C)', fontsize=14)\n",
    "plt.legend(fontsize=12)\n",
    "plt.grid(True)\n",
    "plt.show()\n",
    "\n",
    "print(f\"The final outlet temperature is {T_plot[-1]:.2f} C.\")\n",
    "print(\"The numerical simulation perfectly matches the analytical solution, validating our model!\")"
   ]
  },
  {
   "cell_type": "markdown",
   "metadata": {},
   "source": [
    "## Part 6: Be the Transport Phenomena Engineer!\n",
    "\n",
    "Now, use the simulation to explore how design changes affect performance. Modify the **Geometry and Operating Conditions** in **Part 4** and re-run the cells.\n",
    "\n",
    "#### Challenge 1: Effect of Flow Rate\n",
    "What happens if you **double the mass flow rate** to `2.0` kg/s? \n",
    "*Before you run, predict*: Will the Reynolds number increase or decrease? How will that affect the heat transfer coefficient, $h$? Will the final outlet temperature be higher or lower than the base case? Why?\n",
    "\n",
    "#### Challenge 2: Effect of Pipe Diameter\n",
    "Reset the flow rate. Now, **reduce the pipe diameter** `D` to `0.025` m. \n",
    "*Predict*: How does a smaller pipe affect the fluid velocity and the Reynolds number? What will be the net effect on the outlet temperature?\n",
    "\n",
    "#### Challenge 3: Change of Fluid\n",
    "This is a bigger challenge. Imagine you are now heating a viscous oil instead of water. Oil has a much higher viscosity (e.g., `mu = 0.1` Pa.s) and a lower heat capacity and thermal conductivity. Make these changes to the physical properties.\n",
    "*Predict*: Will the flow be laminar or turbulent? How will the much higher Prandtl number affect heat transfer? Will you need a much longer pipe to achieve the same heating?"
   ]
  }
 ],
 "metadata": {
  "kernelspec": {
   "display_name": "Python 3",
   "language": "python",
   "name": "python3"
  },
  "language_info": {
   "codemirror_mode": {
    "name": "ipython",
    "version": 3
   },
   "file_extension": ".py",
   "mimetype": "text/x-python",
   "name": "python",
   "nbconvert_exporter": "python",
   "pygments_lexer": "ipython3",
   "version": "3.9.7"
  }
 },
 "nbformat": 4,
 "nbformat_minor": 4
}
