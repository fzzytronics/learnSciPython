{
 "cells": [
  {
   "cell_type": "markdown",
   "metadata": {},
   "source": [
    "# Thermodynamics Lesson: Real vs. Ideal Gas Behavior\n",
    "\n",
    "**Objective:** This lesson explores the limits of the Ideal Gas Law and introduces the van der Waals Equation of State as a model for real gas behavior. We will visually compare these two models by plotting Pressure-Volume (P-v) isotherms.\n",
    "\n",
    "**Learning Goals:**\n",
    "1.  Understand the assumptions behind the Ideal Gas Law.\n",
    "2.  Learn the physical meaning of the correction terms ($a$ and $b$) in the van der Waals equation.\n",
    "3.  Generate and interpret P-v diagrams for both models.\n",
    "4.  Visually identify the conditions under which real gases deviate significantly from ideal behavior.\n",
    "5.  Observe how a real gas model can predict the liquid-vapor phase transition."
   ]
  },
  {
   "cell_type": "markdown",
   "metadata": {},
   "source": [
    "## The Models: Equations of State\n",
    "\n",
    "An Equation of State (EoS) is a thermodynamic equation that relates state variables like pressure ($P$), temperature ($T$), and volume ($V$).\n",
    "\n",
    "### 1. The Ideal Gas Law\n",
    "This is the simplest EoS. It assumes gas particles have no volume and experience no intermolecular forces.\n",
    "$$ P = \\frac{RT}{V_m} $$\n",
    "where $V_m$ is the molar volume ($V/n$) and $R$ is the ideal gas constant.\n",
    "\n",
    "### 2. The van der Waals Equation\n",
    "This equation improves upon the ideal gas law by adding two correction terms:\n",
    "$$ P = \\frac{RT}{V_m - b} - \\frac{a}{V_m^2} $$\n",
    "*   **The '$b$' term** accounts for the finite volume occupied by the gas molecules themselves (repulsive forces).\n",
    "*   **The '$a/V_m^2$' term** accounts for the attractive forces between molecules, which reduce the pressure exerted on the container walls."
   ]
  },
  {
   "cell_type": "code",
   "execution_count": null,
   "metadata": {},
   "outputs": [],
   "source": [
    "import numpy as np\n",
    "import matplotlib.pyplot as plt\n",
    "\n",
    "# --- Constants and Parameters ---\n",
    "R = 8.314  # Ideal Gas Constant (J/mol.K)\n",
    "\n",
    "# van der Waals constants for Carbon Dioxide (CO2)\n",
    "a = 0.364  # (J.m^3/mol^2)\n",
    "b = 4.267e-5 # (m^3/mol)\n",
    "\n",
    "# Define a range of molar volumes to plot against\n",
    "Vm = np.linspace(5e-5, 5e-4, 500) # m^3/mol\n",
    "\n",
    "# Define a set of temperatures (isotherms) to plot, including the critical temp of CO2 (304.1 K)\n",
    "temps = [280, 304.1, 350, 400] # Kelvin\n",
    "\n",
    "# --- Define the EoS Functions ---\n",
    "def ideal_gas_pressure(T, Vm):\n",
    "    return (R * T) / Vm\n",
    "\n",
    "def vdw_pressure(T, Vm):\n",
    "    return (R * T) / (Vm - b) - a / (Vm**2)\n",
    "\n",
    "print(\"Parameters and functions are defined.\")"
   ]
  },
  {
   "cell_type": "markdown",
   "metadata": {},
   "source": [
    "## P-v Isotherm Comparison\n",
    "\n",
    "Now, let's plot the pressure predicted by both models across our range of molar volumes for each temperature."
   ]
  },
  {
   "cell_type": "code",
   "execution_count": null,
   "metadata": {},
   "outputs": [],
   "source": [
    "plt.style.use('seaborn-v0_8-whitegrid')\n",
    "fig, ax = plt.subplots(figsize=(12, 8))\n",
    "\n",
    "for T in temps:\n",
    "    # Calculate pressures from both models\n",
    "    P_ideal = ideal_gas_pressure(T, Vm)\n",
    "    P_vdw = vdw_pressure(T, Vm)\n",
    "    \n",
    "    # Plot Ideal Gas Law as a dashed line\n",
    "    ax.plot(Vm * 1000, P_ideal / 1e6, linestyle='--', label=f'Ideal Gas, T={T}K')\n",
    "    # Plot van der Waals as a solid line\n",
    "    ax.plot(Vm * 1000, P_vdw / 1e6, linestyle='-', label=f'van der Waals, T={T}K')\n",
    "\n",
    "# Formatting\n",
    "ax.set_xlabel('Molar Volume, $V_m$ (L/mol)', fontsize=14)\n",
    "ax.set_ylabel('Pressure, P (MPa)', fontsize=14)\n",
    "ax.set_title('P-v Isotherms for CO2: Ideal vs. van der Waals', fontsize=16, weight='bold')\n",
    "ax.set_ylim(0, 15) # Set y-axis limit for better visualization\n",
    "ax.set_xlim(left=0)\n",
    "ax.legend()\n",
    "plt.show()"
   ]
  },
  {
   "cell_type": "markdown",
   "metadata": {},
   "source": [
    "### Interpreting the Plot\n",
    "\n",
    "*   **High Temperature (e.g., 400 K):** At high temperatures and large volumes, the solid and dashed lines for a given color are nearly identical. This shows that real gases behave ideally under these conditions.\n",
    "*   **Low Temperature (280 K):** Below the critical temperature, the van der Waals equation (solid blue line) shows a characteristic \"loop\". This region, while not physically perfect, represents the phase transition from vapor to liquid. The Ideal Gas Law (dashed blue line) shows no such behavior.\n",
    "*   **Critical Isotherm (304.1 K):** At the critical temperature, the van der Waals equation shows an inflection point, which corresponds to the critical point of the substance. \n",
    "\n",
    "This plot powerfully illustrates that the correction terms in the van der Waals equation allow it to capture the complex, real-world behavior that the Ideal Gas Law misses."
   ]
  },
  {
   "cell_type": "markdown",
   "metadata": {},
   "source": [
    "## Student Challenges\n",
    "\n",
    "1.  **Different Substance:** Find the van der Waals constants for another gas, like Methane (CH4) or Water (H2O). Rerun the simulation. How does its P-v diagram differ from CO2?\n",
    "2.  **Compressibility Factor:** Create a new plot of the Compressibility Factor ($Z = \\frac{PV_m}{RT}$) versus Pressure for one of the isotherms (e.g., T=350K). For an ideal gas, $Z$ is always 1. How does the $Z$ for the van der Waals gas deviate from 1?"
   ]
  }
 ],
 "metadata": {
  "kernelspec": {
   "display_name": "Python 3",
   "language": "python",
   "name": "python3"
  },
  "language_info": {
   "codemirror_mode": {
    "name": "ipython",
    "version": 3
   },
   "file_extension": ".py",
   "mimetype": "text/x-python",
   "name": "python",
   "nbconvert_exporter": "python",
   "pygments_lexer": "ipython3",
   "version": "3.9.7"
  }
 },
 "nbformat": 4,
 "nbformat_minor": 4
}