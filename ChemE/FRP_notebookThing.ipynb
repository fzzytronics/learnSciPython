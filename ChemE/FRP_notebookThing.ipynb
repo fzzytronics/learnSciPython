{
 "cells": [
  {
   "cell_type": "markdown",
   "id": "5109b0de",
   "metadata": {},
   "source": [
    "# 🧪 Free Radical Polymerization Simulation - Guided Student Notebook\n",
    "\n",
    "Welcome to your simulation lab! In this notebook, you'll model the kinetics of **free radical polymerization** using Python.\n",
    "\n",
    "We'll walk through each step, filling in the blanks as we go. By the end, you'll:\n",
    "\n",
    "- Understand the mechanism (initiation, propagation, termination)\n",
    "- Translate chemical rate laws into numerical models\n",
    "- Simulate monomer consumption, conversion, and molecular weight over time\n",
    "- Visualize how different conditions affect your polymerization\n",
    "\n",
    "---"
   ]
  },
  {
   "cell_type": "markdown",
   "id": "5f94e7fb",
   "metadata": {},
   "source": [
    "## 📦 Step 1: Import Necessary Libraries\n",
    "We need tools for numerical calculations and plotting.\n",
    "- `numpy` handles arrays and math\n",
    "- `matplotlib.pyplot` handles plotting\n",
    "\n",
    "👉 Fill in the missing module names:"
   ]
  },
  {
   "cell_type": "code",
   "execution_count": null,
   "id": "952476ce",
   "metadata": {},
   "outputs": [],
   "source": [
    "import _____ as np\n",
    "import __________.pyplot as plt"
   ]
  },
  {
   "cell_type": "markdown",
   "id": "91d66307",
   "metadata": {},
   "source": [
    "## ⚙️ Step 2: Define Initial Parameters\n",
    "These parameters represent chemical and physical constants for the system.\n",
    "\n",
    "- `M0`: initial monomer concentration (mol/L)\n",
    "- `I0`: initial initiator concentration (mol/L)\n",
    "- `f`: initiator efficiency (0 < f ≤ 1)\n",
    "- `kd`, `kp`, `kt`: rate constants (units shown below)\n",
    "- `MW_m`: molecular weight of the monomer (g/mol)\n",
    "\n",
    "👉 Fill in reasonable values based on typical methyl methacrylate (MMA) polymerization (or don't, they aren't real chemicals so go crazy)"
   ]
  },
  {
   "cell_type": "code",
   "execution_count": null,
   "id": "b2a8f890",
   "metadata": {},
   "outputs": [],
   "source": [
    "M0 = _____   # mol/L\n",
    "I0 = _____   # mol/L\n",
    "f = _____    # initiator efficiency\n",
    "kd = _____   # 1/s\n",
    "kp = _____   # L/mol/s\n",
    "kt = _____   # L/mol/s\n",
    "MW_m = _____ # g/mol"
   ]
  },
  {
   "cell_type": "markdown",
   "id": "e96121c9",
   "metadata": {},
   "source": [
    "## 🧮 Step 3: Radical Concentration (Steady-State Assumption)\n",
    "\n",
    "We assume that the concentration of radicals reaches steady state very quickly:\n",
    "$$ [R^\\cdot] = \\sqrt{ \\frac{f \\cdot k_d \\cdot [I]}{k_t} } $$\n",
    "\n",
    "👉 Fill in the code using the above formula:"
   ]
  },
  {
   "cell_type": "code",
   "execution_count": null,
   "id": "438b578a",
   "metadata": {},
   "outputs": [],
   "source": [
    "R_rad = np.sqrt( _____________________________ )"
   ]
  },
  {
   "cell_type": "markdown",
   "id": "2accddb0",
   "metadata": {},
   "source": [
    "## ⏲️ Step 4: Set Up the Time Grid\n",
    "We will simulate the polymerization over time.\n",
    "\n",
    "- `t_end`: total time (seconds)\n",
    "- `dt`: time step\n",
    "- `time`: an array of times from 0 to `t_end`\n",
    "\n",
    "👉 Fill in the correct `np.arange` call:"
   ]
  },
  {
   "cell_type": "code",
   "execution_count": null,
   "id": "4679591a",
   "metadata": {},
   "outputs": [],
   "source": [
    "t_end = 20000  # seconds\n",
    "dt = 0.01\n",
    "time = np.arange(0, ________, ________)"
   ]
  },
  {
   "cell_type": "markdown",
   "id": "ac03c747",
   "metadata": {},
   "source": [
    "## 📈 Step 5: Initialize Arrays\n",
    "We will track:\n",
    "- `M`: monomer concentration over time\n",
    "- `X`: conversion over time\n",
    "- `Mn`: number-average molecular weight\n",
    "\n",
    "All values start at 0 except the initial monomer concentration."
   ]
  },
  {
   "cell_type": "code",
   "execution_count": null,
   "id": "6ac0058b",
   "metadata": {},
   "outputs": [],
   "source": [
    "M = np.zeros_like(time)\n",
    "X = np.zeros_like(time)\n",
    "Mn = np.zeros_like(time)\n",
    "\n",
    "M[0] = M0"
   ]
  },
  {
   "cell_type": "markdown",
   "id": "e9ede1da",
   "metadata": {},
   "source": [
    "## 🔁 Step 6: Run the Simulation Loop\n",
    "We use **Euler’s method** to update the system over time.\n",
    "\n",
    "Key equations:\n",
    "- $R_p = k_p \\cdot [M] \\cdot [R^\\cdot]$\n",
    "- $d[M] = -R_p \\cdot dt$\n",
    "- $X = \\frac{M_0 - M}{M_0}$\n",
    "- $Mn = \\frac{M_0 \\cdot X \\cdot MW_m}{[R^\\cdot]}$\n",
    "\n",
    "👉 Complete the missing pieces in the loop:"
   ]
  },
  {
   "cell_type": "code",
   "execution_count": null,
   "id": "ca2a41fd",
   "metadata": {},
   "outputs": [],
   "source": [
    "for i in range(1, len(time)):\n",
    "    Rp = ________\n",
    "    dM = ________\n",
    "    M[i] = max(M[i-1] + dM, 0)  # prevent negative M\n",
    "    X[i] = (M0 - M[i]) / M0\n",
    "    Mn[i] = MW_m * X[i] * M0 / R_rad"
   ]
  },
  {
   "cell_type": "markdown",
   "id": "05de20c7",
   "metadata": {},
   "source": [
    "## 📊 Step 7: Plot the Results\n",
    "We’ll generate three subplots:\n",
    "- Monomer concentration vs time\n",
    "- Conversion vs time\n",
    "- Number-average molecular weight vs time\n",
    "\n",
    "👉 Run the code below and inspect the plots:"
   ]
  },
  {
   "cell_type": "code",
   "execution_count": null,
   "id": "7a9b48f3",
   "metadata": {},
   "outputs": [],
   "source": [
    "plt.figure(figsize=(14, 6))\n",
    "\n",
    "plt.subplot(1, 3, 1)\n",
    "plt.plot(time / 60, M)\n",
    "plt.title('Monomer vs Time')\n",
    "plt.xlabel('Time (min)')\n",
    "plt.ylabel('[M] (mol/L)')\n",
    "\n",
    "plt.subplot(1, 3, 2)\n",
    "plt.plot(time / 60, X)\n",
    "plt.title('Conversion vs Time')\n",
    "plt.xlabel('Time (min)')\n",
    "plt.ylabel('Conversion')\n",
    "\n",
    "plt.subplot(1, 3, 3)\n",
    "plt.plot(time / 60, Mn / 1000)\n",
    "plt.title('Mn vs Time')\n",
    "plt.xlabel('Time (min)')\n",
    "plt.ylabel('Mn (kg/mol)')\n",
    "\n",
    "plt.tight_layout()\n",
    "plt.show()"
   ]
  },
  {
   "cell_type": "markdown",
   "id": "abdf08f4",
   "metadata": {},
   "source": [
    "## 🧪 Optional Challenges\n",
    "\n",
    "1. Change `kp`, `kd`, or `I0` and see how the curves change.\n",
    "2. Add a plot of `Rp` over time.\n",
    "3. Add Arrhenius temperature dependence for `kp`, `kd`, `kt`.\n",
    "4. Track initiator concentration decay over time.\n",
    "\n",
    "🎉 Great work"
   ]
  }
 ],
 "metadata": {
  "kernelspec": {
   "display_name": "base",
   "language": "python",
   "name": "python3"
  },
  "language_info": {
   "name": "python",
   "version": "3.13.5"
  }
 },
 "nbformat": 4,
 "nbformat_minor": 5
}
