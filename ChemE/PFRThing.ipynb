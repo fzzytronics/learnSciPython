{
 "cells": [
  {
   "cell_type": "markdown",
   "metadata": {},
   "source": [
    "# Reaction Engineering Lesson: Modeling a Gas-Phase Plug Flow Reactor (PFR)\n",
    "\n",
    "**Objective:** This lesson provides a detailed walkthrough for designing and simulating a Plug Flow Reactor (PFR) for a gas-phase reaction where the number of moles changes. This is a critical skill, as it requires coupling reaction kinetics with fluid mechanics (volumetric flow rate changes).\n",
    "\n",
    "**Learning Goals:**\n",
    "1.  Derive the fundamental design equation for a PFR from a differential mole balance.\n",
    "2.  Understand why and how to account for changes in volumetric flow rate in gas-phase systems.\n",
    "3.  Develop a system of Ordinary Differential Equations (ODEs) that describes the molar flow rates of all species along the reactor length.\n",
    "4.  Solve this system of ODEs using Python's scientific libraries (`SciPy`).\n",
    "5.  Visualize and interpret the resulting concentration and conversion profiles."
   ]
  },
  {
   "cell_type": "markdown",
   "metadata": {},
   "source": [
    "## The PFR Concept\n",
    "\n",
    "A Plug Flow Reactor (PFR) models the behavior of a reactor where fluid flows as a series of infinitesimally thin 'plugs'. Each plug is a tiny batch reactor that moves down the length of the PFR.\n",
    "\n",
    "**Key Assumptions:**\n",
    "*   **No Axial Mixing:** There is no mixing or diffusion in the direction of flow.\n",
    "*   **Perfect Radial Mixing:** Within any given plug (at a specific axial position), the concentration, temperature, and reaction rate are uniform.\n",
    "*   **Steady State:** The properties at any given point in the reactor do not change with time.\n",
    "\n",
    "This means that reactant concentration is high at the inlet and gradually decreases as the fluid flows down the length of the reactor. Our goal is to model this profile.\n",
    "\n",
    "![PFR Diagram](https://library.fiveable.me/_next/image?url=https%3A%2F%2Fstorage.googleapis.com%2Fstatic.prod.fiveable.me%2Fsearch-images%252F%2522Plug_flow_reactor_configuration_flow_pattern_diagram_continuous_flow_axial_mixing_chemical_engineering%2522-09-chem_reactorsE(2).jpg&w=640&q=75)"
   ]
  },
  {
   "cell_type": "markdown",
   "metadata": {},
   "source": [
    "## Part 1: The Model - Differential Mole Balance\n",
    "\n",
    "To model the PFR, we perform a mole balance on a reactant `A` over a differential slice of reactor volume, `dV`.\n",
    "\n",
    "$$ (\\text{Flow of A in at } V) - (\\text{Flow of A out at } V+dV) + (\\text{Generation of A in } dV) = 0 $$\n",
    "$$ F_A|_V - F_A|_{V+dV} + r_A \\, dV = 0 $$\n",
    "\n",
    "where $F_A$ is the molar flow rate of A and $r_A$ is the rate of formation of A per unit volume. Rearranging and taking the limit as $dV \\rightarrow 0$ gives the fundamental design equation for a PFR in its molar flow form:\n",
    "$$ \\frac{dF_A}{dV} = r_A $$"
   ]
  },
  {
   "cell_type": "markdown",
   "metadata": {},
   "source": [
    "## Part 2: The Challenge - Gas-Phase Reactions\n",
    "\n",
    "The rate of reaction, $r_A$, typically depends on **concentration**, $C_A$. For example, for a first-order reaction, $r_A = -k C_A$. The concentration is related to molar flow by:\n",
    "$$ C_A = \\frac{F_A}{v} $$\n",
    "where $v$ is the **volumetric flow rate**.\n",
    "\n",
    "**In gas-phase reactions where the number of moles changes, $v$ is NOT constant!** As reactants turn into products, the total number of moles can increase or decrease, changing the volume of the gas (and thus the concentrations of all species).\n",
    "\n",
    "We can relate the change in volumetric flow to the change in total molar flow ($F_T$) using the ideal gas law (assuming isothermal and isobaric conditions):\n",
    "$$ v = v_0 \\left( \\frac{F_T}{F_{T0}} \\right) $$\n",
    "where $v_0$ and $F_{T0}$ are the initial volumetric and total molar flow rates.\n",
    "\n",
    "**Our Strategy:** We will write our ODEs in terms of molar flows ($F_i$) for every species. Inside our model function, at each step (each `dV`), we will:\n",
    "1.  Use the current molar flows ($F_i$) to calculate the total molar flow ($F_T$).\n",
    "2.  Use $F_T$ to calculate the current volumetric flow ($v$).\n",
    "3.  Use $F_i$ and $v$ to calculate current concentrations ($C_i$).\n",
    "4.  Use $C_i$ to calculate the reaction rate ($r_A$).\n",
    "5.  Use $r_A$ to calculate the derivatives ($dF_i/dV$) for the next step of the ODE solver."
   ]
  },
  {
   "cell_type": "markdown",
   "metadata": {},
   "source": [
    "## Part 3: Python Implementation\n",
    "\n",
    "We will model the gas-phase decomposition of Dimethyl Ether (DME) into Methane, Hydrogen, and Carbon Monoxide.\n",
    "$$ (CH_3)_2O \\rightarrow CH_4 + H_2 + CO $$\n",
    "Let A = DME, B = CH4, C = H2, D = CO. The reaction is $A \\rightarrow B + C + D$. The rate law is first order with respect to DME: $r_{DME} = -k C_A$."
   ]
  },
  {
   "cell_type": "code",
   "execution_count": null,
   "metadata": {},
   "outputs": [],
   "source": [
    "# Import necessary libraries\n",
    "import numpy as np\n",
    "from scipy.integrate import solve_ivp\n",
    "import matplotlib.pyplot as plt\n",
    "\n",
    "# --- Define Reaction & Feed Parameters ---\n",
    "k = 0.005         # Reaction rate constant (1/s)\n",
    "T0 = 800          # Inlet Temperature (K)\n",
    "P0 = 5.0          # Inlet Pressure (atm)\n",
    "R = 0.08206       # Gas Constant (L.atm/mol.K)\n",
    "\n",
    "# Inlet Feed (pure DME)\n",
    "F_A0 = 10.0       # Molar flow of DME (mol/s)\n",
    "F_B0 = 0.0\n",
    "F_C0 = 0.0\n",
    "F_D0 = 0.0\n",
    "\n",
    "# Initial total molar flow and concentration\n",
    "F_T0 = F_A0 + F_B0 + F_C0 + F_D0\n",
    "C_A0 = F_A0 * P0 / (F_T0 * R * T0) # From C_A0 = y_A0 * P0 / (R*T0)\n",
    "\n",
    "# Initial volumetric flow rate\n",
    "v0 = F_T0 * R * T0 / P0\n",
    "\n",
    "print(\"Parameters are defined.\")"
   ]
  },
  {
   "cell_type": "code",
   "execution_count": null,
   "metadata": {},
   "outputs": [],
   "source": [
    "def pfr_gas_model(V, F):\n",
    "    \"\"\"\n",
    "    Defines the system of ODEs for the gas-phase PFR.\n",
    "    Args:\n",
    "        V (float): Current reactor volume (L), the independent variable.\n",
    "        F (list): State vector of molar flows [F_A, F_B, F_C, F_D].\n",
    "    \"\"\"\n",
    "    # Unpack the molar flows\n",
    "    F_A, F_B, F_C, F_D = F\n",
    "    \n",
    "    # 1. Calculate total molar flow\n",
    "    F_T = F_A + F_B + F_C + F_D\n",
    "    \n",
    "    # 2. Calculate current volumetric flow rate\n",
    "    v = v0 * (F_T / F_T0) # Assuming T=T0 and P=P0\n",
    "    \n",
    "    # 3. Calculate current concentration of reactant A\n",
    "    C_A = F_A / v\n",
    "    \n",
    "    # 4. Calculate the rate of reaction for species A (DME)\n",
    "    r_A = -k * C_A\n",
    "    \n",
    "    # 5. Calculate derivatives for each component based on stoichiometry\n",
    "    # Reaction: A -> B + C + D\n",
    "    # r_A = -r_B = -r_C = -r_D\n",
    "    dFA_dV = r_A\n",
    "    dFB_dV = -r_A\n",
    "    dFC_dV = -r_A\n",
    "    dFD_dV = -r_A\n",
    "    \n",
    "    return [dFA_dV, dFB_dV, dFC_dV, dFD_dV]\n",
    "\n",
    "print(\"PFR model function is defined.\")"
   ]
  },
  {
   "cell_type": "code",
   "execution_count": null,
   "metadata": {},
   "outputs": [],
   "source": [
    "# --- Running the Simulation ---\n",
    "\n",
    "# Define the integration span (reactor volume from 0 to V_final)\n",
    "V_final = 5000 # Liters\n",
    "V_span = (0, V_final)\n",
    "\n",
    "# Define the initial conditions (feed molar flows)\n",
    "F_initial = [F_A0, F_B0, F_C0, F_D0]\n",
    "\n",
    "# Call the ODE solver\n",
    "solution = solve_ivp(pfr_gas_model, V_span, F_initial, dense_output=True, method='Radau')\n",
    "\n",
    "# Generate points for a smooth plot\n",
    "V_plot = np.linspace(V_span[0], V_span[1], 200)\n",
    "F_plot = solution.sol(V_plot)\n",
    "\n",
    "print(\"ODE Simulation complete.\")"
   ]
  },
  {
   "cell_type": "markdown",
   "metadata": {},
   "source": [
    "## Part 4: Analysis and Visualization\n",
    "\n",
    "Now we plot the results to see what's happening inside our reactor."
   ]
  },
  {
   "cell_type": "code",
   "execution_count": null,
   "metadata": {},
   "outputs": [],
   "source": [
    "# --- Extract results and calculate conversion ---\n",
    "F_A_plot = F_plot[0]\n",
    "F_B_plot = F_plot[1]\n",
    "F_C_plot = F_plot[2]\n",
    "F_D_plot = F_plot[3]\n",
    "\n",
    "# Conversion of reactant A (DME)\n",
    "X_A_plot = (F_A0 - F_A_plot) / F_A0\n",
    "\n",
    "# --- Plotting ---\n",
    "plt.style.use('seaborn-v0_8-whitegrid')\n",
    "fig, ax1 = plt.subplots(figsize=(12, 8))\n",
    "\n",
    "# Plot Molar Flows on the primary y-axis (left)\n",
    "ax1.set_xlabel('Reactor Volume (L)', fontsize=14)\n",
    "ax1.set_ylabel('Molar Flow Rate (mol/s)', fontsize=14, color='royalblue')\n",
    "ax1.plot(V_plot, F_A_plot, label='DME (A)', color='royalblue')\n",
    "ax1.plot(V_plot, F_B_plot, label='Methane (B)', color='firebrick')\n",
    "ax1.tick_params(axis='y', labelcolor='royalblue')\n",
    "ax1.legend(loc='upper left')\n",
    "\n",
    "# Plot Conversion on the secondary y-axis (right)\n",
    "ax2 = ax1.twinx()\n",
    "ax2.set_ylabel('Conversion of DME, X', fontsize=14, color='green')\n",
    "ax2.plot(V_plot, X_A_plot, color='green', linestyle='--', linewidth=3, label='Conversion')\n",
    "ax2.tick_params(axis='y', labelcolor='green')\n",
    "ax2.legend(loc='upper right')\n",
    "ax2.set_ylim(0, 1)\n",
    "\n",
    "fig.suptitle('PFR Profile for Gas-Phase DME Decomposition', fontsize=16, weight='bold')\n",
    "fig.tight_layout()\n",
    "plt.show()"
   ]
  },
  {
   "cell_type": "markdown",
   "metadata": {},
   "source": [
    "### Interpreting the Plot\n",
    "\n",
    "This plot is a perfect illustration of the PFR concept:\n",
    "*   **Molar Flow of DME (Blue):** As expected, the reactant is consumed as it flows down the reactor, so its molar flow decreases.\n",
    "*   **Molar Flow of Methane (Red):** The product is generated, so its molar flow increases from zero.\n",
    "*   **Rate of Reaction:** The slope of the DME curve is steepest at the beginning (V=0) and becomes shallower. This is because the reaction rate is highest at the inlet where the reactant concentration is highest.\n",
    "*   **Conversion (Green):** The conversion steadily increases with reactor volume, showing how more reaction time (volume) leads to a more complete reaction. To achieve ~80% conversion, we would need a reactor of about 3000 L."
   ]
  },
  {
   "cell_type": "markdown",
   "metadata": {},
   "source": [
    "## Student Challenges\n",
    "\n",
    "1.  **Effect of Pressure:** In our model, we assumed the pressure was constant ($P=P_0$). What would happen to the required reactor volume for 80% conversion if you **doubled the inlet pressure `P0`**? Before running, think: how does pressure affect gas concentration and reaction rate?\n",
    "\n",
    "2.  **Pressure Drop:** A more realistic model would include pressure drop along the length of the reactor, often modeled by the **Ergun Equation**. This is an advanced challenge. Can you add another ODE to the system, $\\frac{dP}{dV} = -f(\\text{flow properties})$, and use the changing pressure $P(V)$ in your calculation of volumetric flow $v$? \n",
    "\n",
    "3.  **Reversible Reaction:** What if the reaction was reversible: $A \\rightleftharpoons B + C + D$? You would need to modify the rate law to include a reverse term: $r_A = -k_f C_A + k_r C_B C_C C_D$. How would this change the final conversion profile? Would it still reach 100% if the reactor were infinitely long?"
   ]
  }
 ],
 "metadata": {
  "kernelspec": {
   "display_name": "Python 3",
   "language": "python",
   "name": "python3"
  },
  "language_info": {
   "codemirror_mode": {
    "name": "ipython",
    "version": 3
   },
   "file_extension": ".py",
   "mimetype": "text/x-python",
   "name": "python",
   "nbconvert_exporter": "python",
   "pygments_lexer": "ipython3",
   "version": "3.9.7"
  }
 },
 "nbformat": 4,
 "nbformat_minor": 4
}
