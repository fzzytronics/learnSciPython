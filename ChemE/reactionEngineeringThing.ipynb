{
 "cells": [
  {
   "cell_type": "markdown",
   "metadata": {},
   "source": [
    "# Reaction Engineering Lesson: PFR vs. CSTR Performance\n",
    "\n",
    "**Objective:** This lesson will compare the performance of the two most common ideal reactor types: the Continuous Stirred-Tank Reactor (CSTR) and the Plug Flow Reactor (PFR). We will simulate both for a simple reaction to determine which is more efficient.\n",
    "\n",
    "**Learning Goals:**\n",
    "1.  Review the design equations for both CSTR and PFR models.\n",
    "2.  Understand the fundamental difference in their mixing models.\n",
    "3.  Implement both models in Python to calculate reactant conversion as a function of residence time.\n",
    "4.  Visually and quantitatively compare the performance of the two reactor types.\n",
    "5.  Explain *why* one reactor type typically yields higher conversion for the same volume."
   ]
  },
  {
   "cell_type": "markdown",
   "metadata": {},
   "source": [
    "## The Models: Reactor Design Equations\n",
    "\n",
    "We will consider a simple, irreversible, nth-order liquid-phase reaction: $A \\rightarrow B$ with a rate law of $r = k C_A^n$.\n",
    "\n",
    "### 1. The CSTR (Continuous Stirred-Tank Reactor)\n",
    "A CSTR assumes perfect mixing, meaning the concentration inside the reactor is uniform and equal to the outlet concentration. The design equation is an **algebraic equation** derived from a mass balance:\n",
    "$$ \\tau_{CSTR} = \\frac{V}{F_0} = \\frac{C_{A0} - C_A}{k C_A^n} $$\n",
    "where $\\tau$ is the residence time.\n",
    "\n",
    "### 2. The PFR (Plug Flow Reactor)\n",
    "A PFR assumes no axial mixing, but perfect radial mixing. Fluid flows like a \"plug\". The model is a **differential equation** derived from a balance over a differential slice of the reactor:\n",
    "$$ \\frac{dC_A}{d\\tau} = -k C_A^n $$"
   ]
  },
  {
   "cell_type": "code",
   "execution_count": null,
   "metadata": {},
   "outputs": [],
   "source": [
    "import numpy as np\n",
    "from scipy.integrate import solve_ivp\n",
    "import matplotlib.pyplot as plt\n",
    "\n",
    "# --- Reaction and Feed Parameters ---\n",
    "k = 0.5           # Reaction rate constant (L/mol.min for n=2)\n",
    "n = 2.0           # Reaction order\n",
    "C_A0 = 1.0        # Initial concentration of A (mol/L)\n",
    "\n",
    "# Define a range of residence times to simulate\n",
    "tau_max = 10.0      # minutes\n",
    "tau_range = np.linspace(0.01, tau_max, 100)\n",
    "\n",
    "# --- PFR Model Function ---\n",
    "def pfr_model(tau, C_A):\n",
    "    \"\"\"Defines the PFR ODE.\"\"\"\n",
    "    return -k * (C_A**n)\n",
    "\n",
    "print(\"Parameters and PFR model are defined.\")"
   ]
  },
  {
   "cell_type": "markdown",
   "metadata": {},
   "source": [
    "## Simulation and Comparison\n",
    "\n",
    "We will now solve the PFR model using an ODE solver and calculate the CSTR performance using its algebraic equation. We will then plot conversion for both."
   ]
  },
  {
   "cell_type": "code",
   "execution_count": null,
   "metadata": {},
   "outputs": [],
   "source": [
    "# --- PFR Simulation ---\n",
    "tau_span = (0, tau_max)\n",
    "C_A_initial = [C_A0]\n",
    "pfr_solution = solve_ivp(pfr_model, tau_span, C_A_initial, dense_output=True, t_eval=tau_range)\n",
    "C_A_pfr = pfr_solution.y[0]\n",
    "X_pfr = (C_A0 - C_A_pfr) / C_A0 # PFR Conversion\n",
    "\n",
    "# --- CSTR Calculation ---\n",
    "# We need to solve the algebraic CSTR equation for C_A at each tau.\n",
    "# This can be complex for n!=1. For n=2: k*tau*C_A^2 + C_A - C_A0 = 0\n",
    "C_A_cstr = []\n",
    "for tau in tau_range:\n",
    "    # Using the quadratic formula to solve for C_A\n",
    "    # a*x^2 + b*x + c = 0 -> x = (-b + sqrt(b^2 - 4ac)) / 2a\n",
    "    a = k * tau\n",
    "    b = 1\n",
    "    c = -C_A0\n",
    "    C_A = (-b + np.sqrt(b**2 - 4*a*c)) / (2*a)\n",
    "    C_A_cstr.append(C_A)\n",
    "\n",
    "C_A_cstr = np.array(C_A_cstr)\n",
    "X_cstr = (C_A0 - C_A_cstr) / C_A0 # CSTR Conversion\n",
    "\n",
    "print(\"Simulations for both reactors are complete.\")"
   ]
  },
  {
   "cell_type": "code",
   "execution_count": null,
   "metadata": {},
   "outputs": [],
   "source": [
    "# --- Plotting the Comparison ---\n",
    "plt.style.use('seaborn-v0_8-whitegrid')\n",
    "plt.figure(figsize=(12, 7))\n",
    "\n",
    "plt.plot(tau_range, X_pfr * 100, 'b-', linewidth=3, label='PFR')\n",
    "plt.plot(tau_range, X_cstr * 100, 'r--', linewidth=3, label='CSTR')\n",
    "\n",
    "# Formatting\n",
    "plt.title('PFR vs. CSTR Performance Comparison (n=2)', fontsize=16, weight='bold')\n",
    "plt.xlabel('Residence Time, $\\tau$ (minutes)', fontsize=14)\n",
    "plt.ylabel('Conversion, X (%)', fontsize=14)\n",
    "plt.legend(fontsize=12)\n",
    "plt.xlim(0, tau_max)\n",
    "plt.ylim(0, 100)\n",
    "plt.grid(True)\n",
    "plt.show()"
   ]
  },
  {
   "cell_type": "markdown",
   "metadata": {},
   "source": [
    "### Interpreting the Plot\n",
    "\n",
    "The conclusion is clear and immediate: **For any given residence time (reactor volume), the PFR achieves a significantly higher conversion than the CSTR.**\n",
    "\n",
    "**Why?**\n",
    "The reaction rate depends on concentration ($r = k C_A^n$). \n",
    "*   In a **PFR**, the concentration of reactant A is high at the inlet and gradually decreases. This means the average reaction rate along the reactor is high.\n",
    "*   In a **CSTR**, the moment the feed enters, it is instantly mixed and diluted down to the low outlet concentration. The entire reaction takes place at this low concentration, resulting in a much lower reaction rate.\n",
    "\n",
    "This simulation visually proves that preserving high reactant concentration, as a PFR does, is more efficient than the complete back-mixing of a CSTR."
   ]
  },
  {
   "cell_type": "markdown",
   "metadata": {},
   "source": [
    "## Student Challenges\n",
    "\n",
    "1.  **First-Order Reaction:** Change the reaction order `n` to `1`. Is the PFR still more efficient? (Yes, it will be). You will also need to change the CSTR calculation to the simpler form: $C_A = C_{A0} / (1 + k\\tau)$.\n",
    "2.  **Reactors in Series:** A classic concept is that multiple CSTRs in series can begin to approximate a PFR. Can you simulate two identical CSTRs in series and plot their final conversion on the same graph? The outlet of the first CSTR becomes the inlet of the second. You should find the result lies between the single CSTR and the PFR curves!"
   ]
  }
 ],
 "metadata": {
  "kernelspec": {
   "display_name": "Python 3",
   "language": "python",
   "name": "python3"
  },
  "language_info": {
   "codemirror_mode": {
    "name": "ipython",
    "version": 3
   },
   "file_extension": ".py",
   "mimetype": "text/x-python",
   "name": "python",
   "nbconvert_exporter": "python",
   "pygments_lexer": "ipython3",
   "version": "3.9.7"
  }
 },
 "nbformat": 4,
 "nbformat_minor": 4
}