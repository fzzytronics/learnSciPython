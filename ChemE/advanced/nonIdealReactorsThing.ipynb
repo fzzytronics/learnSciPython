{
 "cells": [
  {
   "cell_type": "markdown",
   "metadata": {},
   "source": [
    "# Non-Ideal Reactor Design with Residence Time Distribution (RTD)\n",
    "\n",
    "**Objective:** This lesson delves into the analysis of non-ideal reactors. We will explore how real reactors deviate from ideal CSTR and PFR behavior and learn how to characterize this non-ideal flow using Residence Time Distribution (RTD). Ultimately, we will use this RTD data to predict the reactor's performance.\n",
    "\n",
    "**Learning Goals:**\n",
    "1.  Understand the concepts of non-ideal flow, including dead zones and bypassing/channeling.\n",
    "2.  Learn how a tracer experiment is used to generate an RTD curve ($E(t)$).\n",
    "3.  Derive and plot the theoretical RTD curves for ideal PFR and CSTR reactors.\n",
    "4.  Model a non-ideal reactor using the **Tanks-in-Series (TIS)** model and see how it bridges the gap between CSTRs and PFRs.\n",
    "5.  Use the **Segregated Flow Model** to predict the conversion of a chemical reaction in a non-ideal reactor."
   ]
  },
  {
   "cell_type": "markdown",
   "metadata": {},
   "source": [
    "## Part 1: Why Ideal Reactors Aren't Real\n",
    "\n",
    "The CSTR and PFR models are mathematical ideals based on strict assumptions about mixing:\n",
    "*   **Ideal CSTR:** Assumes mixing is instantaneous and complete.\n",
    "*   **Ideal PFR:** Assumes no mixing in the axial direction, but perfect mixing radially.\n",
    "\n",
    "In reality, industrial reactors suffer from non-ideal flow patterns:\n",
    "*   **Dead Zones:** Regions of the reactor with very low flow, where fluid gets 'stuck'.\n",
    "*   **Bypassing or Channeling:** When fluid takes a short-cut from the inlet to the outlet, spending very little time in the reactor.\n",
    "\n",
    "These non-idealities mean that not all fluid elements spend the same amount of time in the reactor. The **Residence Time Distribution (RTD)** is a probability distribution that describes the amount of time that fluid elements spend inside the reactor."
   ]
  },
  {
   "cell_type": "markdown",
   "metadata": {},
   "source": [
    "## Part 2: The RTD Experiment and the E-Curve\n",
    "\n",
    "To measure the RTD, we perform a **tracer experiment**. We introduce an inert chemical (a tracer) at the inlet and measure its concentration, $C(t)$, at the outlet over time. For a pulse input, the resulting $C(t)$ curve might look like a skewed bell curve.\n",
    "\n",
    "From this, we define the **Residence Time Distribution function, $E(t)$**, also called the **E-curve**. It is the normalized concentration curve:\n",
    "$$ E(t) = \\frac{C(t)}{\\int_0^\\infty C(t) \\, dt} $$\n",
    "$E(t)dt$ represents the fraction of fluid leaving the reactor that has spent a time between $t$ and $t+dt$ inside the reactor. It has two key properties:\n",
    "$$ \\int_0^\\infty E(t) \\, dt = 1 $$\n",
    "$$ \\int_0^\\infty t \\cdot E(t) \\, dt = \\tau  $$\n",
    " (The mean of the distribution is the space time) "
   ]
  },
  {
   "cell_type": "markdown",
   "metadata": {},
   "source": [
    "## Part 3: RTD of Ideal Reactors - Our Baseline\n",
    "\n",
    "To understand non-ideal behavior, we must first know what ideal behavior looks like in terms of RTD.\n",
    "\n",
    "**1. Ideal PFR:** Every fluid element moves together like a plug. They all enter at $t=0$ and all exit at exactly $t=\\tau$. The RTD is a perfect Dirac delta function at $t=\\tau$.\n",
    "\n",
    "**2. Ideal CSTR:** The feed is instantly mixed. Some fluid elements will leave almost immediately, while some will linger for a very long time. The RTD can be derived from a mass balance on the tracer:\n",
    "$$ E(t) = \\frac{1}{\\tau} e^{-t/\\tau} $$"
   ]
  },
  {
   "cell_type": "code",
   "execution_count": null,
   "metadata": {},
   "outputs": [],
   "source": [
    "import numpy as np\n",
    "import matplotlib.pyplot as plt\n",
    "from scipy.integrate import solve_ivp, quad\n",
    "from scipy.special import gamma # For the factorial function\n",
    "\n",
    "# --- Define System Parameters ---\n",
    "tau = 10.0      # Mean residence time (minutes)\n",
    "\n",
    "# Time vector for plotting\n",
    "t = np.linspace(0, 4*tau, 500)\n",
    "\n",
    "# --- Theoretical E-Curves ---\n",
    "# CSTR\n",
    "E_cstr = (1/tau) * np.exp(-t/tau)\n",
    "\n",
    "# PFR (approximated as a tall, thin pulse for visualization)\n",
    "E_pfr = np.zeros_like(t)\n",
    "pfr_pulse_index = np.argmin(np.abs(t - tau))\n",
    "E_pfr[pfr_pulse_index] = 50 # Arbitrary height for visibility\n",
    "\n",
    "# --- Plotting the Ideal E-Curves ---\n",
    "plt.style.use('seaborn-v0_8-whitegrid')\n",
    "plt.figure(figsize=(12, 7))\n",
    "plt.plot(t, E_cstr, 'r-', linewidth=3, label='Ideal CSTR')\n",
    "plt.plot(t, E_pfr, 'b-', linewidth=3, label='Ideal PFR (visualized pulse)')\n",
    "plt.title('Theoretical RTD for Ideal Reactors', fontsize=16, weight='bold')\n",
    "plt.xlabel('Time, t (minutes)', fontsize=14)\n",
    "plt.ylabel('E(t) (1/min)', fontsize=14)\n",
    "plt.legend()\n",
    "plt.show()"
   ]
  },
  {
   "cell_type": "markdown",
   "metadata": {},
   "source": [
    "## Part 4: The Tanks-in-Series (TIS) Model for Non-Ideal Reactors\n",
    "\n",
    "This is our first real model for non-ideal flow. It approximates a non-ideal reactor as a cascade of $N$ equal-sized ideal CSTRs. \n",
    "\n",
    "*   If $N=1$, we have a perfect CSTR.\n",
    "*   If $N \\rightarrow \\infty$, the cascade approaches a perfect PFR.\n",
    "*   For intermediate values ($1 < N < \\infty$), the model represents a reactor with some degree of dispersion or back-mixing, which is very realistic.\n",
    "\n",
    "The E-curve for the TIS model is:\n",
    "$$ E(t) = \\frac{N}{\\tau} \\frac{(Nt/\\tau)^{N-1}}{(N-1)!} e^{-Nt/\\tau} $$"
   ]
  },
  {
   "cell_type": "code",
   "execution_count": null,
   "metadata": {},
   "outputs": [],
   "source": [
    "def e_curve_tis(t, tau, N):\n",
    "    \"\"\"E-Curve for the Tanks-in-Series model.\"\"\"\n",
    "    # We use the gamma function since Gamma(N) = (N-1)!\n",
    "    # This is more robust and works for non-integer N.\n",
    "    return (N/tau) * (N*t/tau)**(N-1) / gamma(N) * np.exp(-N*t/tau)\n",
    "\n",
    "# --- Plotting TIS E-Curves for different N ---\n",
    "plt.figure(figsize=(12, 7))\n",
    "\n",
    "N_values = [1, 2, 5, 10, 50]\n",
    "for N in N_values:\n",
    "    E_tis = e_curve_tis(t, tau, N)\n",
    "    plt.plot(t, E_tis, label=f'Tanks-in-Series, N={N}')\n",
    "\n",
    "plt.title('Tanks-in-Series RTD Model', fontsize=16, weight='bold')\n",
    "plt.xlabel('Time, t (minutes)', fontsize=14)\n",
    "plt.ylabel('E(t) (1/min)', fontsize=14)\n",
    "plt.legend()\n",
    "plt.show()\n",
    "\n",
    "print(\"Observe how as N increases, the curve becomes narrower and more symmetric, approaching a PFR's pulse.\")"
   ]
  },
  {
   "cell_type": "markdown",
   "metadata": {},
   "source": [
    "## Part 5: Using RTD to Predict Reactor Conversion\n",
    "\n",
    "Knowing the RTD is great, but its real power is in predicting the performance of a chemical reaction. The **Segregated Flow Model** is one way to do this.\n",
    "\n",
    "**The Concept:** Imagine the fluid flowing through the reactor as a collection of tiny, separate \"packets\". Each packet is a miniature batch reactor. The final outlet stream is the mixture of all these packets, which have all spent different amounts of time in the reactor.\n",
    "\n",
    "The overall conversion ($X_A$) is the average of the conversions achieved in each individual packet, weighted by the fraction of packets that spent that amount of time in the reactor (which is exactly what $E(t)$ tells us!).\n",
    "$$ \\bar{X}_A = \\int_0^\\infty X_{A,batch}(t) \\cdot E(t) \\, dt $$\n",
    "where $X_{A,batch}(t)$ is the conversion achieved in a batch reactor after time $t$."
   ]
  },
  {
   "cell_type": "code",
   "execution_count": null,
   "metadata": {},
   "outputs": [],
   "source": [
    "# --- Define the reaction and batch kinetics ---\n",
    "k = 0.25 # Rate constant for a first-order reaction (1/min)\n",
    "\n",
    "def batch_conversion(t, k):\n",
    "    \"\"\"Conversion for a first-order reaction in a batch reactor.\"\"\"\n",
    "    return 1 - np.exp(-k * t)\n",
    "\n",
    "# --- Calculate Conversion for the TIS model ---\n",
    "\n",
    "# Let's choose a specific non-ideal reactor, e.g., N=3\n",
    "N_non_ideal = 3\n",
    "\n",
    "# The function to be integrated (the integrand)\n",
    "def integrand(t, k, tau, N):\n",
    "    return batch_conversion(t, k) * e_curve_tis(t, tau, N)\n",
    "\n",
    "# Perform the numerical integration from t=0 to t=infinity\n",
    "conversion_non_ideal, error = quad(integrand, 0, np.inf, args=(k, tau, N_non_ideal))\n",
    "\n",
    "# --- For comparison, calculate conversion in ideal reactors ---\n",
    "conversion_pfr = batch_conversion(tau, k)\n",
    "conversion_cstr = (k * tau) / (1 + k * tau)\n",
    "\n",
    "print(f\"--- Predicted Conversion for tau = {tau} min ---\")\n",
    "print(f\"Ideal PFR:       {conversion_pfr:.3f}\")\n",
    "print(f\"Non-Ideal (N={N_non_ideal}): {conversion_non_ideal:.3f}\")\n",
    "print(f\"Ideal CSTR:      {conversion_cstr:.3f}\")"
   ]
  },
  {
   "cell_type": "markdown",
   "metadata": {},
   "source": [
    "## Conclusion and Challenges\n",
    "\n",
    "We have successfully characterized a non-ideal reactor using the Tanks-in-Series model and used its RTD to predict a conversion that falls predictably between the ideal PFR and CSTR cases. This demonstrates the power of RTD analysis in providing a more realistic picture of reactor performance.\n",
    "\n",
    "### Student Challenges\n",
    "\n",
    "1.  **Effect of Non-Ideality:** How does the predicted conversion change as you vary `N_non_ideal` from 2 up to 20? Create a plot of Conversion vs. N. What does this tell you about the importance of preventing back-mixing in reactor design?\n",
    "2.  **Effect of Reaction Order:** The Segregated Flow Model gives different results for different reaction orders. Modify the `batch_conversion` function for a **second-order reaction**, where $X_A(t) = \\frac{k C_{A0} t}{1 + k C_{A0} t}$. Re-calculate the conversions for the PFR, CSTR, and non-ideal reactor. Is the impact of non-ideality more or less severe for a second-order reaction?\n",
    "3.  **Mean Residence Time:** Use numerical integration (`quad`) to verify that the mean of the E-curve for the TIS model is indeed equal to $\\tau$. The integral you need to solve is $\\int_0^\\infty t \\cdot E(t) \\, dt$."
   ]
  }
 ],
 "metadata": {
  "kernelspec": {
   "display_name": "Python 3",
   "language": "python",
   "name": "python3"
  },
  "language_info": {
   "codemirror_mode": {
    "name": "ipython",
    "version": 3
   },
   "file_extension": ".py",
   "mimetype": "text/x-python",
   "name": "python",
   "nbconvert_exporter": "python",
   "pygments_lexer": "ipython3",
   "version": "3.9.7"
  }
 },
 "nbformat": 4,
 "nbformat_minor": 4
}
