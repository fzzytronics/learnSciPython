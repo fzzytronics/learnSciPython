{
 "cells": [
  {
   "cell_type": "markdown",
   "metadata": {},
   "source": [
    "# Process Design & Simulation: Designing a Flash Drum Separator\n",
    "\n",
    "**Objective:** This lesson will guide you through a complete, albeit simplified, process design and simulation workflow. We will design a flash drum to separate a binary mixture of benzene and toluene, a classic chemical engineering problem.\n",
    "\n",
    "**Learning Goals:**\n",
    "1.  Understand the role of a flash drum in chemical processes.\n",
    "2.  Apply the principles of Vapor-Liquid Equilibrium (VLE), including Raoult's Law and Antoine's Equation.\n",
    "3.  Formulate the material and energy balance equations (the \"Rachford-Rice\" equations) that govern the separation.\n",
    "4.  Use Python's scientific libraries (`NumPy`, `SciPy`) to solve the system of non-linear equations that describe the process.\n",
    "5.  Analyze and interpret the simulation results to evaluate the performance of our design."
   ]
  },
  {
   "cell_type": "markdown",
   "metadata": {},
   "source": [
    "## The Design Challenge: Flash Separation\n",
    "\n",
    "Imagine we have a liquid feed stream containing a 50/50 mole mix of benzene and toluene at a high pressure. Our goal is to separate this mixture into a vapor stream enriched in the more volatile component (benzene) and a liquid stream enriched in the less volatile component (toluene).\n",
    "\n",
    "A **flash drum** is the perfect unit operation for this. The process works by taking the high-pressure liquid feed, passing it through a valve to drop the pressure, and feeding it into a large tank (the drum). The sudden pressure drop causes a portion of the liquid to instantly vaporize or \"flash\". Because the components have different volatilities, the vapor and liquid phases will have different compositions.\n",
    "\n",
    "![Flash Drum Diagram](https://upload.wikimedia.org/wikipedia/commons/c/c4/Vap-Liq_Separator.png)\n",
    "\n",
    "**Our Task:** Given a feed stream and a desired operating pressure and temperature for the drum, we need to calculate:\n",
    "*   The fraction of the feed that vaporizes ($V/F$).\n",
    "*   The composition of the resulting vapor stream ($y_i$).\n",
    "*   The composition of the resulting liquid stream ($x_i$)."
   ]
  },
  {
   "cell_type": "markdown",
   "metadata": {},
   "source": [
    "## Part 1: The Physics - Vapor-Liquid Equilibrium (VLE)\n",
    "\n",
    "The separation is only possible because of VLE. For an ideal mixture (which benzene-toluene is a good approximation of), the VLE relationship is described by **Raoult's Law**:\n",
    "$$ y_i P = x_i P_i^{sat} $$\n",
    "where:\n",
    "*   $y_i$ is the mole fraction of component $i$ in the vapor phase.\n",
    "*   $x_i$ is the mole fraction of component $i$ in the liquid phase.\n",
    "*   $P$ is the total pressure of the system (the drum pressure).\n",
    "*   $P_i^{sat}$ is the vapor pressure of pure component $i$ at the system temperature.\n",
    "\n",
    "We can define an equilibrium constant, $K_i$:\n",
    "$$ K_i = \\frac{y_i}{x_i} = \\frac{P_i^{sat}}{P} $$\n",
    "\n",
    "To calculate the vapor pressure, $P_i^{sat}$, we use the **Antoine Equation**, an empirical formula that relates vapor pressure to temperature:\n",
    "$$ \\log_{10}(P_i^{sat}) = A_i - \\frac{B_i}{C_i + T} $$"
   ]
  },
  {
   "cell_type": "markdown",
   "metadata": {},
   "source": [
    "## Part 2: The Model - Rachford-Rice Flash Equations\n",
    "\n",
    "To solve for the unknowns in our flash drum, we need to solve a system of equations based on material balances.\n",
    "\n",
    "Let:\n",
    "*   $F$ = Molar flow rate of the feed (we'll assume $F=1$ mol/s).\n",
    "*   $L$ = Molar flow rate of the liquid product.\n",
    "*   $V$ = Molar flow rate of the vapor product.\n",
    "*   $z_i$ = Mole fraction of component $i$ in the feed.\n",
    "\n",
    "**Overall Material Balance:**\n",
    "$$ F = L + V $$\n",
    "\n",
    "**Component Material Balance:**\n",
    "$$ F z_i = L x_i + V y_i $$\n",
    "\n",
    "By combining these balances with the VLE relationship ($y_i = K_i x_i$), we can derive the famous **Rachford-Rice equation**:\n",
    "$$ \\sum_{i} \\frac{z_i (K_i - 1)}{1 + \\psi (K_i - 1)} = 0 $$\n",
    "where $\\psi$ is the vapor fraction, $V/F$. This single, powerful equation allows us to solve for the fraction of the feed that vaporizes. We will solve this numerically."
   ]
  },
  {
   "cell_type": "markdown",
   "metadata": {},
   "source": [
    "## Part 3: Python Implementation\n",
    "\n",
    "Let's translate this theory into a working simulation."
   ]
  },
  {
   "cell_type": "code",
   "execution_count": null,
   "metadata": {},
   "outputs": [],
   "source": [
    "# Import necessary libraries\n",
    "import numpy as np\n",
    "from scipy.optimize import fsolve # A numerical solver for non-linear equations\n",
    "import matplotlib.pyplot as plt\n",
    "\n",
    "# --- Define System Parameters ---\n",
    "\n",
    "# Feed Conditions\n",
    "F = 1.0           # Molar flow rate of feed (mol/s)\n",
    "z_B = 0.5         # Mole fraction of Benzene in feed\n",
    "z_T = 0.5         # Mole fraction of Toluene in feed\n",
    "z = np.array([z_B, z_T])\n",
    "\n",
    "# Flash Drum Operating Conditions\n",
    "P = 1.2           # Drum pressure (atm)\n",
    "T = 95            # Drum temperature (Celsius)\n",
    "\n",
    "# Antoine Coefficients for P_sat in mmHg and T in Celsius\n",
    "# (Source: Perry's Chemical Engineers' Handbook)\n",
    "# antoine_coeffs = [A, B, C]\n",
    "antoine_benzene = [6.90565, 1211.033, 220.79]\n",
    "antoine_toluene = [6.95464, 1344.8,   219.482]\n",
    "antoine_coeffs = np.array([antoine_benzene, antoine_toluene])\n",
    "\n",
    "print(\"Parameters and component data are defined.\")"
   ]
  },
  {
   "cell_type": "code",
   "execution_count": null,
   "metadata": {},
   "outputs": [],
   "source": [
    "def calculate_K_values(T, P, antoine_coeffs):\n",
    "    \"\"\"Calculates VLE K-values for all components at a given T and P.\"\"\"\n",
    "    A = antoine_coeffs[:, 0]\n",
    "    B = antoine_coeffs[:, 1]\n",
    "    C = antoine_coeffs[:, 2]\n",
    "    \n",
    "    # Calculate saturated vapor pressure in mmHg\n",
    "    P_sat_mmHg = 10**(A - (B / (C + T)))\n",
    "    # Convert P_sat to atm (since P is in atm)\n",
    "    P_sat_atm = P_sat_mmHg / 760.0\n",
    "    \n",
    "    # Calculate K-values using Raoult's Law\n",
    "    K = P_sat_atm / P\n",
    "    return K"
   ]
  },
  {
   "cell_type": "code",
   "execution_count": null,
   "metadata": {},
   "outputs": [],
   "source": [
    "def rachford_rice_equation(psi, z, K):\n",
    "    \"\"\"The Rachford-Rice flash equation we want to solve.\n",
    "       We want to find the value of psi that makes this function equal to zero.\n",
    "    \"\"\"\n",
    "    return np.sum(z * (K - 1) / (1 + psi * (K - 1)))\n",
    "\n",
    "# --- Perform the Simulation ---\n",
    "\n",
    "# 1. Calculate K-values at the drum T and P\n",
    "K = calculate_K_values(T, P, antoine_coeffs)\n",
    "\n",
    "# 2. Solve the Rachford-Rice equation for the vapor fraction (psi)\n",
    "# We need an initial guess for the solver. 0.5 is a safe guess.\n",
    "psi_initial_guess = 0.5\n",
    "psi_solution = fsolve(rachford_rice_equation, psi_initial_guess, args=(z, K))[0]\n",
    "\n",
    "# 3. Check if the solution is physically meaningful (0 <= psi <= 1)\n",
    "if psi_solution < 0 or psi_solution > 1:\n",
    "    raise ValueError(f\"Vapor fraction psi ({psi_solution:.3f}) is not between 0 and 1. The feed may be subcooled liquid or superheated vapor at these conditions.\")\n",
    "\n",
    "# 4. Calculate L, V, and the compositions x_i and y_i\n",
    "V = psi_solution * F\n",
    "L = F - V\n",
    "x = z / (1 + psi_solution * (K - 1))\n",
    "y = K * x\n",
    "\n",
    "print(\"Simulation complete. All stream properties calculated.\")"
   ]
  },
  {
   "cell_type": "markdown",
   "metadata": {},
   "source": [
    "## Part 4: Analyzing the Design Results\n",
    "\n",
    "Now that the simulation is complete, let's analyze the results to see if our design successfully separated the components."
   ]
  },
  {
   "cell_type": "code",
   "execution_count": null,
   "metadata": {},
   "outputs": [],
   "source": [
    "print(\"--- Flash Drum Simulation Results ---\")\n",
    "print(f\"Operating Temperature: {T} C\")\n",
    "print(f\"Operating Pressure:    {P} atm\")\n",
    "print(\"-\" * 35)\n",
    "print(f\"Vapor Fraction (V/F):  {psi_solution:.3f}\")\n",
    "print(f\"Vapor Flow Rate (V):   {V:.3f} mol/s\")\n",
    "print(f\"Liquid Flow Rate (L):  {L:.3f} mol/s\")\n",
    "print(\"-\" * 35)\n",
    "print(f\"Liquid Composition (x):\")\n",
    "print(f\"  - Benzene: {x[0]:.3f} (mole fraction)\")\n",
    "print(f\"  - Toluene: {x[1]:.3f} (mole fraction)\")\n",
    "print(\"-\" * 35)\n",
    "print(f\"Vapor Composition (y):\")\n",
    "print(f\"  - Benzene: {y[0]:.3f} (mole fraction)\")\n",
    "print(f\"  - Toluene: {y[1]:.3f} (mole fraction)\")\n",
    "print(\"-\" * 35)\n",
    "\n",
    "# Sanity check: Do mole fractions sum to 1?\n",
    "print(f\"Sum of x_i: {np.sum(x):.4f}\")\n",
    "print(f\"Sum of y_i: {np.sum(y):.4f}\")"
   ]
  },
  {
   "cell_type": "markdown",
   "metadata": {},
   "source": [
    "### Visualizing the Separation\n",
    "\n",
    "A plot is the best way to see the results clearly."
   ]
  },
  {
   "cell_type": "code",
   "execution_count": null,
   "metadata": {},
   "outputs": [],
   "source": [
    "labels = ['Benzene', 'Toluene']\n",
    "feed_comp = z\n",
    "liquid_comp = x\n",
    "vapor_comp = y\n",
    "\n",
    "x_axis = np.arange(len(labels))\n",
    "width = 0.25\n",
    "\n",
    "plt.style.use('seaborn-v0_8-whitegrid')\n",
    "fig, ax = plt.subplots(figsize=(10, 6))\n",
    "\n",
    "rects1 = ax.bar(x_axis - width, feed_comp, width, label='Feed', color='gray')\n",
    "rects2 = ax.bar(x_axis, liquid_comp, width, label='Liquid Product', color='royalblue')\n",
    "rects3 = ax.bar(x_axis + width, vapor_comp, width, label='Vapor Product', color='firebrick')\n",
    "\n",
    "ax.set_ylabel('Mole Fraction', fontsize=12)\n",
    "ax.set_title('Composition of Streams', fontsize=16, weight='bold')\n",
    "ax.set_xticks(x_axis)\n",
    "ax.set_xticklabels(labels)\n",
    "ax.legend()\n",
    "ax.set_ylim(0, 1.0)\n",
    "\n",
    "plt.show()\n",
    "\n",
    "print(\"Interpretation: The vapor stream is enriched with Benzene (the more volatile component), and the liquid stream is enriched with Toluene. The separation was successful!\")"
   ]
  },
  {
   "cell_type": "markdown",
   "metadata": {},
   "source": [
    "## Part 5: Be the Process Engineer - What If?\n",
    "\n",
    "The power of simulation is asking \"what if?\" without building a plant. Modify the **Flash Drum Operating Conditions** in the first code cell of Part 3 and re-run the simulation to find out!\n",
    "\n",
    "#### Challenge 1: The Effect of Temperature\n",
    "Increase the drum temperature `T` from 95 C to 105 C. \n",
    "*Before you run, predict*: Will more or less of the feed vaporize? How will this affect the purity of the benzene in the vapor stream? Why?\n",
    "\n",
    "#### Challenge 2: The Effect of Pressure\n",
    "Reset the temperature to 95 C. Now, decrease the drum pressure `P` from 1.2 atm to 1.0 atm (atmospheric pressure).\n",
    "*Predict*: How does lowering the pressure affect the vaporization and the separation? Think about Raoult's Law and the K-values."
   ]
  }
 ],
 "metadata": {
  "kernelspec": {
   "display_name": "Python 3",
   "language": "python",
   "name": "python3"
  },
  "language_info": {
   "codemirror_mode": {
    "name": "ipython",
    "version": 3
   },
   "file_extension": ".py",
   "mimetype": "text/x-python",
   "name": "python",
   "nbconvert_exporter": "python",
   "pygments_lexer": "ipython3",
   "version": "3.9.7"
  }
 },
 "nbformat": 4,
 "nbformat_minor": 4
}
