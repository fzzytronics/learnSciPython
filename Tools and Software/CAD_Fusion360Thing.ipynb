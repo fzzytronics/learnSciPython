{
 "cells": [
  {
   "cell_type": "markdown",
   "metadata": {},
   "source": [
    "# Fusion 360: Designing Your First Wing\n",
    "\n",
    "**Objective:** This interactive lesson will guide you through the process of designing a 3D aircraft wing section using Autodesk Fusion 360. You will not only learn core CAD skills but also understand how they connect to real-world aerospace engineering principles.\n",
    "\n",
    "**Lesson Goal:** To model a tapered wing section, complete with an internal rib, and run a basic stress simulation to analyze its strength."
   ]
  },
  {
   "cell_type": "markdown",
   "metadata": {},
   "source": [
    "### What is CAD and Why is it Essential for Aerospace?\n",
    "\n",
    "**Computer-Aided Design (CAD)** is the use of computers to create, modify, analyze, and optimize 2D and 3D designs. In aerospace, nothing gets built without first being modeled in CAD. From the initial concept of a new jet to the detailed design of every single bracket and screw, CAD is the foundation of modern aircraft development.\n",
    "\n",
    "**Fusion 360** is a modern, cloud-based tool that integrates several stages of engineering into one platform: **CAD** (design), **CAM** (manufacturing), and **CAE** (simulation/engineering). This is the tool we will use today."
   ]
  },
  {
   "cell_type": "markdown",
   "metadata": {},
   "source": [
    "--- \n",
    "## Part 1: Your Flight Deck - The Fusion 360 Environment\n",
    "\n",
    "Before we start designing, let's get familiar with your workspace. When you open Fusion 360, you'll see a few key areas:"
   ]
  },
  {
   "cell_type": "markdown",
   "metadata": {
    "tags": []
   },
   "source": [
    "\n",
    "1.  **Toolbar:** Your main set of tools (Sketch, Create, Modify). This bar changes depending on which **Workspace** you're in (e.g., Design, Simulation, Manufacture).\n",
    "2.  **Browser:** A list of everything in your design on the left. This includes sketches, construction planes, and solid bodies. It's your project's table of contents!\n",
    "3.  **ViewCube:** In the top-right corner, this lets you rotate your view or snap to standard views like `TOP`, `FRONT`, and `RIGHT`.\n",
    "4.  **Timeline:** The most important part! It's at the bottom and records every single action you take. This is the power of **parametric modeling**—you can go back in time and change a dimension, and the rest of your model will update automatically."
   ]
  },
  {
   "cell_type": "markdown",
   "metadata": {},
   "source": [
    "### Student Mission #1: Prepare Your Workspace\n",
    "\n",
    "Your first task is to set up your project folder.\n",
    "\n",
    "```\n",
    "ACTION (in Fusion 360):\n",
    "\n",
    "1. In the top left, click the 'Show Data Panel' icon (looks like a 3x3 grid).\n",
    "2. Click 'New Project' and name it 'Aerospace Engineering'.\n",
    "3. Double-click your new project to enter it.\n",
    "4. Click 'New Design' from the File menu to start with a blank canvas.\n",
    "5. Save your empty design by hitting `Ctrl+S` (or `Cmd+S`) and name it 'Aircraft Wing'.\n",
    "```"
   ]
  },
  {
   "cell_type": "markdown",
   "metadata": {},
   "source": [
    "---\n",
    "## Part 2: The Heart of the Wing - Modeling an Airfoil\n",
    "\n",
    "**Aerospace Concept:** An **airfoil** (or **aerofoil**) is the cross-sectional shape of a wing. Its carefully curved shape is designed to generate **lift** by creating a pressure difference between the upper and lower surfaces as air flows past it. We will use a standard airfoil from the National Advisory Committee for Aeronautics (NACA).\n"
   ]
  },
  {
   "cell_type": "markdown",
   "metadata": {},
   "source": [
    "### Step 1: Get Airfoil Data\n",
    "Real-world airfoil shapes are defined by a series of x,y coordinates. You may remember this website from earlier\n",
    "\n",
    "```\n",
    "ACTION (in your Web Browser):\n",
    "\n",
    "1. Go to the UIUC Airfoil Coordinates Database: https://m-selig.ae.illinois.edu/ads/coord_database.html\n",
    "2. Find the 'naca2412.dat' file in the list and click on it.\n",
    "3. This will open a page with two columns of numbers. Right-click and 'Save As...' to save this file to your computer. Make sure you know where you saved it!\n",
    "```\n",
    "These coordinates describe an airfoil as a plot of points."
   ]
  },
  {
   "cell_type": "markdown",
   "metadata": {},
   "source": [
    "### Step 2: Import the Airfoil into Fusion 360\n",
    "We will now import those coordinates to create a perfect airfoil curve.\n",
    "\n",
    "```\n",
    "ACTION (in Fusion 360):\n",
    "\n",
    "1. In the 'SOLID' tab of the Toolbar, click 'INSERT' > 'Insert SVG'.\n",
    "2. A dialog box will appear. Click the folder icon to select the 'naca2412.dat' file you just downloaded. (Note: You may need to change the file type filter to 'All Files' to see it).\n",
    "3. Select one of the origin planes (the flat squares in the middle of the screen). The 'XZ' plane (the 'ground' plane) is a good choice.\n",
    "4. You will see the airfoil shape appear. You can use the scale tools to make it larger or smaller. For now, a scale factor of 50-100 is good. Click 'OK'.\n",
    "5. The imported shape is just a line. We need a closed shape to work with. Click 'Finish Sketch'.\n",
    "```"
   ]
  },
  {
   "cell_type": "markdown",
   "metadata": {},
   "source": [
    "### Student Mission #2: Sketch the Wing Root\n",
    "The imported airfoil is just a reference. Let's trace it to create a clean, usable sketch.\n",
    "\n",
    "```\n",
    "ACTION (in Fusion 360):\n",
    "\n",
    "1. Click 'CREATE SKETCH' from the Toolbar and select the same plane (XZ) you imported the airfoil onto.\n",
    "2. Use the 'Fit Point Spline' tool (under 'CREATE') to carefully click along the imported airfoil curve, tracing it from the pointy trailing edge, around the curved leading edge, and back.\n",
    "3. Once the spline is traced, draw a straight 'Line' to connect the two endpoints at the trailing edge. The area inside your sketch should turn light blue.\n",
    "4. Click 'Finish Sketch'. This complete sketch is your 'Wing Root'.\n",
    "```\n",
    "**Question:** What does the blue shading inside your sketch signify? \n",
    "**Answer:** It indicates a 'closed profile', which is a 2D shape that can be extruded, revolved, or lofted into a 3D body."
   ]
  },
  {
   "cell_type": "markdown",
   "metadata": {},
   "source": [
    "---\n",
    "## Part 3: From 2D to 3D - Building the Wing Shape\n",
    "\n",
    "**Aerospace Concept:** Most aircraft wings are not simple extrusions. They are **tapered**, meaning the **chord** (distance from leading to trailing edge) is smaller at the **tip** than at the **root** (where it attaches to the fuselage). This design saves weight and improves aerodynamic efficiency. We will use the **Loft** tool to create this tapered shape."
   ]
  },
  {
   "cell_type": "code",
   "execution_count": null,
   "metadata": {},
   "outputs": [],
   "source": [
    "# INSTRUCTION BLOCK 1: CREATE THE WING TIP\n",
    "\n",
    "# 1. Create an Offset Plane:\n",
    "#    - In the toolbar, go to 'CONSTRUCT' > 'Offset Plane'.\n",
    "#    - Click on the plane containing your first sketch.\n",
    "#    - Drag the arrow outwards to define the wingspan. Enter a distance like '300 mm'. This new plane is where your wingtip will be.\n",
    "\n",
    "# 2. Create the Tip Sketch:\n",
    "#    - Click 'CREATE SKETCH' and select your new offset plane.\n",
    "\n",
    "# 3. Project the Root Sketch:\n",
    "#    - We want the tip to be the same shape, just smaller. Let's project the first sketch.\n",
    "#    - Press 'P' on your keyboard for the Project tool.\n",
    "#    - Click on the first sketch you made. A purple copy will appear on your current sketch plane. Click 'OK'.\n",
    "\n",
    "# 4. Scale the Tip:\n",
    "#    - Use the 'MODIFY' > 'Scale' tool.\n",
    "#    - Select the projected lines you just made.\n",
    "#    - For the 'Point', select the center point of the sketch.\n",
    "#    - Enter a 'Scale Factor' of '0.6'. This will make the tip chord 60% of the root chord.\n",
    "#    - Click 'Finish Sketch'."
   ]
  },
  {
   "cell_type": "code",
   "execution_count": null,
   "metadata": {},
   "outputs": [],
   "source": [
    "# INSTRUCTION BLOCK 2: LOFT THE WING\n",
    "\n",
    "# 1. Activate the Loft tool:\n",
    "#    - Go to 'CREATE' > 'Loft'.\n",
    "\n",
    "# 2. Select the Profiles:\n",
    "#    - The Loft dialog box will open. It will ask for 'Profiles'.\n",
    "#    - Click on the blue shaded area of your first sketch (the root).\n",
    "#    - Click on the blue shaded area of your second, smaller sketch (the tip).\n",
    "\n",
    "# 3. Review and Confirm:\n",
    "#    - You should now see a beautiful, 3D tapered wing shape connecting the two profiles.\n",
    "#    - Make sure the 'Operation' is set to 'New Body' and click 'OK'."
   ]
  },
  {
   "cell_type": "markdown",
   "metadata": {},
   "source": [
    "### You now have a 3D solid wing! Use the ViewCube to rotate around and admire your work."
   ]
  },
  {
   "cell_type": "markdown",
   "metadata": {},
   "source": [
    "---\n",
    "## Part 4: Adding Internal Structure\n",
    "\n",
    "**Aerospace Concept:** Real wings are not solid blocks of metal; they would be far too heavy. They are hollow skins supported by an internal skeleton of **Spars** (which run along the wingspan) and **Ribs** (which are cross-sections that give the airfoil shape)."
   ]
  },
  {
   "cell_type": "code",
   "execution_count": null,
   "metadata": {},
   "outputs": [],
   "source": [
    "# INSTRUCTION BLOCK 3: HOLLOW THE WING AND ADD A RIB\n",
    "\n",
    "# 1. Hollow the Wing with the Shell Tool:\n",
    "#    - Go to 'MODIFY' > 'Shell'.\n",
    "#    - Click on the faces of the wing root and wing tip to select them. This tells Fusion you want to remove these faces.\n",
    "#    - Set a 'Thickness' of '2 mm'. This will be the thickness of your wing's skin.\n",
    "#    - Click 'OK'. Your wing is now hollow!\n",
    "\n",
    "# 2. Create a Plane for a Rib:\n",
    "#    - Use 'CONSTRUCT' > 'Offset Plane' again.\n",
    "#    - Select the wing root plane and create a new plane about '100 mm' along the wing.\n",
    "\n",
    "# 3. Sketch the Rib:\n",
    "#    - 'CREATE SKETCH' on this new plane.\n",
    "#    - We need to see the inside of our wing. In the 'Browser' on the left, find 'Bodies' and click the eyeball icon next to your wing body to hide it.\n",
    "#    - Now, use 'CREATE' > 'Project/Include' > 'Intersect'.\n",
    "#    - Select the wing body from the Browser (you can click it even if it's hidden). This will create lines on your sketch plane exactly where it intersects the 3D wing skin.\n",
    "#    - Use the 'Offset' tool ('MODIFY' > 'Offset') to create a smaller version of this shape inside the original. Set the offset distance to '-5 mm'.\n",
    "#    - Turn the visibility of your wing body back on by clicking the eyeball icon again.\n",
    "#    - Click 'Finish Sketch'.\n",
    "\n",
    "# 4. Extrude the Rib:\n",
    "#    - Use 'CREATE' > 'Extrude'.\n",
    "#    - Select the profile of the rib you just sketched.\n",
    "#    - Set the 'Direction' to 'Symmetric' and the 'Measurement' to 'Whole Length'.\n",
    "#    - Give it a thickness of '3 mm'.\n",
    "#    - Make sure the 'Operation' is 'New Body'. Click 'OK'."
   ]
  },
  {
   "cell_type": "markdown",
   "metadata": {},
   "source": [
    "### Student Mission #3: Pattern the Rib\n",
    "Creating one rib is great, but wings need many. Let's use a pattern tool to do this efficiently!\n",
    "```\n",
    "ACTION (in Fusion 360):\n",
    "\n",
    "1. Go to 'CREATE' > 'Pattern' > 'Rectangular Pattern'.\n",
    "2. Change 'Pattern Type' to 'Bodies'. Select the rib body you just created.\n",
    "3. For 'Axis', select the line that defines the leading edge or trailing edge of your wing.\n",
    "4. Set 'Distribution' to 'Spacing'.\n",
    "5. Choose a 'Quantity' of 3 and a 'Distance' of 100 mm.\n",
    "6. Click 'OK'. You now have multiple, evenly spaced ribs inside your wing!\n",
    "```"
   ]
  },
  {
   "cell_type": "markdown",
   "metadata": {},
   "source": [
    "---\n",
    "## Part 5: Basic Stress Simulation (CAE)\n",
    "\n",
    "**Aerospace Concept:** **Finite Element Analysis (FEA)** is a simulation method engineers use to predict how a part will behave under real-world conditions (like the force of lift). It helps us find weak spots *before* we build anything, saving time and money and ensuring safety. It is the bread and butter of any mechanical / aerospace engineer."
   ]
  },
  {
   "cell_type": "code",
   "execution_count": null,
   "metadata": {},
   "outputs": [],
   "source": [
    "# INSTRUCTION BLOCK 4: RUN A STATIC STRESS STUDY\n",
    "\n",
    "# 1. Enter the Simulation Workspace:\n",
    "#    - In the top-left, click where it says 'Design' and change the Workspace to 'Simulation'.\n",
    "#    - A new window will pop up. Choose 'Static Stress' and click 'Create Study'.\n",
    "\n",
    "# 2. Assign Material:\n",
    "#    - The first icon is 'Study Materials'. Click it.\n",
    "#    - In the dialog, find 'Aluminum 6061' and assign it to all your bodies. A wing made of generic plastic won't work!\n",
    "\n",
    "# 3. Apply Constraints (Hold it in place):\n",
    "#    - Go to 'CONSTRAINTS'.\n",
    "#    - Choose the 'Fixed' constraint.\n",
    "#    - Select the face of the wing root. This tells the simulation that the wing is firmly attached to a fuselage at this end.\n",
    "\n",
    "# 4. Apply Loads (Simulate Lift):\n",
    "#    - Go to 'LOADS'.\n",
    "#    - Choose the 'Pressure' load.\n",
    "#    - Select the top surface of the wing.\n",
    "#    - Enter a pressure value, for example '0.01 MPa' (MegaPascals). This simulates the aerodynamic lift force pushing up on the wing.\n",
    "\n",
    "# 5. Solve:\n",
    "#    - Click the green 'SOLVE' icon.\n",
    "#    - Click 'Solve' again. The simulation will be run on the cloud.\n",
    "\n",
    "# 6. Analyze Results:\n",
    "#    - Once finished, the results will appear. You can look at 'Safety Factor', 'Stress', and 'Displacement'.\n",
    "#    - Displacement shows you how much the wing is bending (it will be exaggerated!).\n",
    "#    - Stress shows where the material is under the most strain."
   ]
  },
  {
   "cell_type": "markdown",
   "metadata": {},
   "source": [
    "### Student Mission #4: Analyze the Results\n",
    "\n",
    "Look at the Stress result plot.\n",
    "\n",
    "**Question:** Where is the area of highest stress on your wing (shown in red/orange)? Does this location make sense to you? Why?\n",
    "\n",
    "**Answer:** The highest stress is typically at the wing root, where it is constrained. This makes sense because it is the point that bears the entire load of the lifting wing, similar to how a diving board bends most right at the base."
   ]
  },
  {
   "cell_type": "markdown",
   "metadata": {},
   "source": [
    "--- \n",
    "## Congratulations & Next Steps\n",
    "\n",
    "You have successfully designed, modeled, and analyzed a fundamental aerospace component! You have learned how to:\n",
    "\n",
    "✅ Create parametric sketches from real-world data.\n",
    "\n",
    "✅ Use the **Loft** tool to create complex, tapered 3D shapes.\n",
    "\n",
    "✅ Hollow out bodies with **Shell** and create internal structures like **Ribs**.\n",
    "\n",
    "✅ Efficiently duplicate parts using the **Pattern** tool.\n",
    "\n",
    "✅ Set up and run a basic **FEA simulation** to analyze for stress.\n",
    "\n",
    "You have enough skills to land yourself an internship by september if you manage to sell your skills well. Great job!!!!"
   ]
  },
  {
   "cell_type": "markdown",
   "metadata": {},
   "source": [
    "All that is left is to put these skills to work and do some projects. You may not be 100% familiar with the tools I have taught you to use but that expertice will come with expereince, so get working on projects and designs and soon you will have a resume that you can proudly show off.\n",
    "\n",
    "I will still be making these little follow along notebooks because they are an awesome resourse for you.\n",
    "Let's collaborate on a project soon!"
   ]
  },
  {
   "cell_type": "markdown",
   "metadata": {},
   "source": [
    "Good hunting!"
   ]
  }
 ],
 "metadata": {
  "kernelspec": {
   "display_name": "Python 3",
   "language": "python",
   "name": "python3"
  },
  "language_info": {
   "codemirror_mode": {
    "name": "ipython",
    "version": 3
   },
   "file_extension": ".py",
   "mimetype": "text/x-python",
   "name": "python",
   "nbconvert_exporter": "python",
   "pygments_lexer": "ipython3",
   "version": "3.8.8"
  }
 },
 "nbformat": 4,
 "nbformat_minor": 4
}
