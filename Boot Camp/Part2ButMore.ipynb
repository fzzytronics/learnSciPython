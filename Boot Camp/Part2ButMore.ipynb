{
 "cells": [
  {
   "cell_type": "markdown",
   "metadata": {},
   "source": [
    "# The Engineer's Toolkit\n",
    "\n",
    "**Welcome!** In the previous lesson, you mastered the logic of Python programming. Now, we'll master the tools. An engineer's effectiveness with Python is determined by their ability to use its powerful scientific libraries. This lesson is a deep dive into the three most important ones: NumPy, Matplotlib, and SciPy.\n",
    "\n",
    "**Objective:** To provide a comprehensive, practical understanding of the core scientific libraries, enabling you to efficiently manipulate data, create publication-quality visualizations, and solve complex mathematical engineering problems.\n",
    "\n",
    "**Analogy:**\n",
    "*   **Python** is your workshop.\n",
    "*   **NumPy** is your set of power tools for measurement and calculation.\n",
    "*   **Matplotlib** is your drafting table for creating blueprints and charts.\n",
    "*   **SciPy** is your advanced diagnostics and problem-solving machine."
   ]
  },
  {
   "cell_type": "markdown",
   "metadata": {},
   "source": [
    "## Part 1: NumPy - The Foundation of Numerical Computing\n",
    "\n",
    "NumPy (Numerical Python) is the absolute bedrock of the scientific Python ecosystem. Its core feature is the `ndarray` (N-dimensional array), a data structure that allows for incredibly fast and efficient mathematical operations on large sets of numbers."
   ]
  },
  {
   "cell_type": "markdown",
   "metadata": {},
   "source": [
    "### 1.1 Creating NumPy Arrays\n",
    "There are several common ways to create arrays."
   ]
  },
  {
   "cell_type": "code",
   "execution_count": null,
   "metadata": {},
   "outputs": [],
   "source": [
    "import numpy as np # The universal alias for numpy is 'np'\n",
    "\n",
    "# 1. From a Python list (most common)\n",
    "my_list = [1, 2, 3, 4, 5]\n",
    "my_array = np.array(my_list)\n",
    "print(f\"Array from list: {my_array}\")\n",
    "\n",
    "# 2. With a range of evenly spaced values (essential for plotting)\n",
    "# np.linspace(start, stop, number_of_points)\n",
    "time_vector = np.linspace(0, 10, 5) # 5 points from 0 to 10 inclusive\n",
    "print(f\"Linspace array:    {time_vector}\")\n",
    "\n",
    "# 3. Arrays of zeros or ones (useful for initializing)\n",
    "zeros_array = np.zeros(5)\n",
    "ones_array = np.ones(3)\n",
    "print(f\"Zeros array:       {zeros_array}\")\n",
    "print(f\"Ones array:        {ones_array}\")"
   ]
  },
  {
   "cell_type": "markdown",
   "metadata": {},
   "source": [
    "### 1.2 The Power of Vectorization\n",
    "\n",
    "This is the **most important reason** to use NumPy. Vectorization allows you to perform mathematical operations on entire arrays at once, without writing slow `for` loops.\n",
    "\n",
    "**Engineering Example:** We have molar flows for a 3-component stream. Let's calculate the mole fraction of each component."
   ]
  },
  {
   "cell_type": "code",
   "execution_count": null,
   "metadata": {},
   "outputs": [],
   "source": [
    "# Molar flows of [N2, O2, Ar] in kmol/hr\n",
    "molar_flows = np.array([78.0, 21.0, 1.0])\n",
    "\n",
    "# --- The NumPy Way (Vectorized) ---\n",
    "total_flow = np.sum(molar_flows)\n",
    "mole_fractions = molar_flows / total_flow\n",
    "print(f\"Total Flow: {total_flow:.1f} kmol/hr\")\n",
    "print(\"Mole Fractions (NumPy):\\n\", np.round(mole_fractions, 3))\n",
    "\n",
    "# --- The Old Way (Python list with a for loop) ---\n",
    "molar_flows_list = [78.0, 21.0, 1.0]\n",
    "total_flow_list = sum(molar_flows_list)\n",
    "mole_fractions_list = []\n",
    "for flow in molar_flows_list:\n",
    "    mole_fractions_list.append(flow / total_flow_list)\n",
    "\n",
    "print(\"\\nThe NumPy way is faster to write, easier to read, and orders of magnitude faster for large datasets.\")"
   ]
  },
  {
   "cell_type": "markdown",
   "metadata": {},
   "source": [
    "### 1.3 Useful NumPy Functions\n",
    "NumPy comes with a huge library of mathematical functions that operate on arrays, such as `np.log()`, `np.exp()`, `np.sin()`, `np.sqrt()`, `np.mean()`, `np.std()`, etc. They work element-wise, just like the basic math operators."
   ]
  },
  {
   "cell_type": "markdown",
   "metadata": {},
   "source": [
    "## Part 2: Matplotlib - Visualizing Engineering Data\n",
    "\n",
    "Effective visualization is a critical skill for an engineer. It's how we analyze trends, validate models, and communicate results. While there are many plotting libraries, Matplotlib is the foundation for most of them."
   ]
  },
  {
   "cell_type": "markdown",
   "metadata": {},
   "source": [
    "### 2.1 The Anatomy of a Plot (The Object-Oriented Approach)\n",
    "The best way to use Matplotlib is the object-oriented approach. It gives you full control over every element of your plot. The two key objects are:\n",
    "\n",
    "*   **`Figure`**: The entire window or page that everything is drawn on. You can think of it as the canvas.\n",
    "*   **`Axes`**: This is the actual plot itself—the area with the data, ticks, labels, etc. A single `Figure` can contain multiple `Axes` (subplots).\n",
    "\n",
    "The standard recipe is: **`fig, ax = plt.subplots()`**"
   ]
  },
  {
   "cell_type": "code",
   "execution_count": null,
   "metadata": {},
   "outputs": [],
   "source": [
    "import matplotlib.pyplot as plt # The universal alias is 'plt'\n",
    "\n",
    "# --- A Publication-Quality Plot Recipe ---\n",
    "\n",
    "# 1. Prepare Data\n",
    "time = np.linspace(0, 20, 100)\n",
    "concentration = 1.5 * np.exp(-0.2 * time) # Reactant A decay\n",
    "temperature = 60 + 30 * np.exp(-0.3 * time) # Exothermic temp decay\n",
    "\n",
    "# 2. Create Figure and Primary Axes\n",
    "fig, ax1 = plt.subplots(figsize=(12, 7))\n",
    "\n",
    "# 3. Plot on the Primary Axis (ax1 for Concentration)\n",
    "ax1.set_xlabel('Time (minutes)', fontsize=14)\n",
    "ax1.set_ylabel('Concentration (mol/L)', fontsize=14, color='royalblue')\n",
    "ax1.plot(time, concentration, color='royalblue', linewidth=3, label='Concentration')\n",
    "ax1.tick_params(axis='y', labelcolor='royalblue')\n",
    "ax1.grid(True, which='both', linestyle=':')\n",
    "\n",
    "# 4. Create and Plot on the Secondary Axis (ax2 for Temperature)\n",
    "# ax.twinx() creates a new y-axis that shares the same x-axis\n",
    "ax2 = ax1.twinx()\n",
    "ax2.set_ylabel('Temperature (°C)', fontsize=14, color='firebrick')\n",
    "ax2.plot(time, temperature, color='firebrick', linestyle='--', linewidth=3, label='Temperature')\n",
    "ax2.tick_params(axis='y', labelcolor='firebrick')\n",
    "\n",
    "# 5. Add Final Touches\n",
    "fig.suptitle('Batch Reactor Profile', fontsize=18, weight='bold')\n",
    "fig.legend(loc='upper right', bbox_to_anchor=(0.9, 0.9)) # Create a single legend for both axes\n",
    "plt.show()"
   ]
  },
  {
   "cell_type": "markdown",
   "metadata": {},
   "source": [
    "## Part 3: SciPy - The Advanced Solver Toolbox\n",
    "\n",
    "SciPy provides the high-level algorithms we need to solve complex engineering problems. You don't need to know *how* they work, but you must know *how to use them*. We will focus on the two most important tools for our lessons."
   ]
  },
  {
   "cell_type": "markdown",
   "metadata": {},
   "source": [
    "### 3.1 `scipy.optimize.fsolve` - The Root Finder\n",
    "\n",
    "`fsolve` numerically finds the root (the `x` value where `f(x) = 0`) of a function. We use this to solve non-linear **algebraic equations** that we can't easily solve by hand.\n",
    "\n",
    "**The Workflow:**\n",
    "1.  Rearrange your equation into the form `f(x) = 0`.\n",
    "2.  Define a Python function that takes `x` and returns the value of `f(x)`.\n",
    "3.  Provide an initial guess for the root.\n",
    "4.  Call `fsolve`."
   ]
  },
  {
   "cell_type": "code",
   "execution_count": null,
   "metadata": {},
   "outputs": [],
   "source": [
    "from scipy.optimize import fsolve\n",
    "\n",
    "# Problem: Solve the equation x^3 - 2*x = 5\n",
    "\n",
    "# 1. Rearrange to the form f(x) = 0\n",
    "#    x^3 - 2*x - 5 = 0\n",
    "\n",
    "# 2. Define the function\n",
    "def my_equation(x):\n",
    "    return x**3 - 2*x - 5\n",
    "\n",
    "# 3. Provide an initial guess\n",
    "initial_guess = 2.0\n",
    "\n",
    "# 4. Call fsolve\n",
    "solution = fsolve(my_equation, initial_guess)\n",
    "root = solution[0] # fsolve returns an array, we want the first element\n",
    "\n",
    "print(f\"The solution to the equation is x = {root:.4f}\")\n",
    "\n",
    "# Let's verify our answer\n",
    "verification = my_equation(root)\n",
    "print(f\"Verification: f({root:.4f}) = {verification:.2e}\") # Should be very close to zero"
   ]
  },
  {
   "cell_type": "markdown",
   "metadata": {},
   "source": [
    "### 3.2 `scipy.integrate.solve_ivp` - The ODE Solver\n",
    "\n",
    "`solve_ivp` (solve initial value problem) is the engine for all our dynamic simulations. It solves systems of **ordinary differential equations**.\n",
    "\n",
    "**The Workflow:**\n",
    "1.  Define a Python function for your model in the form `model(t, y)`, where `t` is time (or the independent variable) and `y` is a list or array of the state variables (e.g., concentrations).\n",
    "2.  This function must return a list of the derivatives (`dy/dt`).\n",
    "3.  Define the initial conditions `y0` and the time span `t_span` to solve over.\n",
    "4.  Call `solve_ivp`."
   ]
  },
  {
   "cell_type": "code",
   "execution_count": null,
   "metadata": {},
   "outputs": [],
   "source": [
    "from scipy.integrate import solve_ivp\n",
    "import ipywidgets as widgets\n",
    "from IPython.display import display\n",
    "\n",
    "# Interactive Demo: Solve a simple ODE dy/dt = -k*y\n",
    "\n",
    "def interactive_ode_solver(k=0.5, y0=5.0):\n",
    "    # 1. Define the model function\n",
    "    def my_ode(t, y):\n",
    "        return -k * y\n",
    "\n",
    "    # 2. Define initial conditions and time span\n",
    "    t_span = (0, 10)\n",
    "    initial_conditions = [y0]\n",
    "\n",
    "    # 3. Call the solver\n",
    "    solution = solve_ivp(my_ode, t_span, initial_conditions, dense_output=True)\n",
    "\n",
    "    # 4. Plot the results\n",
    "    t_plot = np.linspace(t_span[0], t_span[1], 100)\n",
    "    y_plot = solution.sol(t_plot)[0] # .sol is used for dense output\n",
    "    \n",
    "    fig, ax = plt.subplots(figsize=(10, 6))\n",
    "    ax.plot(t_plot, y_plot)\n",
    "    ax.set_xlabel(\"Time\")\n",
    "    ax.set_ylabel(\"Value of y\")\n",
    "    ax.set_title(f\"Solution to dy/dt = -k*y for k={k}, y0={y0}\")\n",
    "    ax.grid(True)\n",
    "    plt.show()\n",
    "\n",
    "interactive_plot = widgets.interactive(interactive_ode_solver, \n",
    "                                       k=widgets.FloatSlider(value=0.5, min=0.1, max=2.0, step=0.1, description='Rate Constant, k:'),\n",
    "                                       y0=widgets.FloatSlider(value=5.0, min=1.0, max=10.0, step=0.5, description='Initial Value, y0:'))\n",
    "\n",
    "display(interactive_plot)"
   ]
  },
  {
   "cell_type": "markdown",
   "metadata": {},
   "source": [
    "## Conclusion: You are Now Fully Equipped\n",
    "\n",
    "Congratulations! This lesson has armed you with the practical skills to use the core scientific Python libraries effectively.\n",
    "\n",
    "You have learned:\n",
    "✅ How to create and manipulate **NumPy arrays** for efficient vectorized calculations.\n",
    "✅ The structured, object-oriented approach to creating informative, publication-quality plots with **Matplotlib**.\n",
    "✅ The specific workflows for using **SciPy's** powerful `fsolve` and `solve_ivp` functions to solve the algebraic and differential equations that govern our engineering models.\n",
    "\n",
    "You now have the complete set of foundational programming and tooling skills. You are ready to apply this knowledge to any of the advanced chemical engineering topics that follow."
   ]
  }
 ],
 "metadata": {
  "kernelspec": {
   "display_name": "Python 3",
   "language": "python",
   "name": "python3"
  },
  "language_info": {
   "codemirror_mode": {
    "name": "ipython",
    "version": 3
   },
   "file_extension": ".py",
   "mimetype": "text/x-python",
   "name": "python",
   "nbconvert_exporter": "python",
   "pygments_lexer": "ipython3",
   "version": "3.9.7"
  }
 },
 "nbformat": 4,
 "nbformat_minor": 4
}
