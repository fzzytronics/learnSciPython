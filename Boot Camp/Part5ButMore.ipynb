{
 "cells": [
  {
   "cell_type": "markdown",
   "metadata": {},
   "source": [
    "## The General Mass Balance Equation\n",
    "\n",
    "For any quantity (mass, moles of a specific chemical, energy, momentum) within a defined **control volume** (our system, e.g., a reactor), the following relationship must hold true:\n",
    "\n",
    "$$ \\text{Accumulation} = \\text{In} - \\text{Out} + \\text{Generation} - \\text{Consumption} $$\n",
    "\n",
    "Let's break down each term from an engineering perspective:\n",
    "\n",
    "*   **Accumulation:** The rate of change of the quantity *inside* the control volume. Mathematically, this is almost always a time derivative: $\\frac{d(\\text{Quantity})}{dt}$. If this term is zero, the system is at **steady-state**.\n",
    "\n",
    "*   **In:** The rate at which the quantity enters the control volume across its boundaries. This is often a flow rate.\n",
    "\n",
    "*   **Out:** The rate at which the quantity leaves the control volume across its boundaries.\n",
    "\n",
    "*   **Generation:** The rate at which the quantity is created *within* the control volume. For a mole balance, this is the rate of a chemical reaction producing the substance.\n",
    "\n",
    "*   **Consumption:** The rate at which the quantity is destroyed *within* the control volume. For a mole balance, this is the rate of a chemical reaction consuming the substance."
   ]
  },
  {
   "cell_type": "markdown",
   "metadata": {},
   "source": [
    "## Case Study 1: A Simple Mixing Tank (No Reaction)\n",
    "\n",
    "Let's start with the simplest case: a tank where we are mixing a salt solution. We will perform a balance on the **mass of salt** in the tank.\n",
    "\n",
    "![Mixing Tank](https://www.sanfoundry.com/wp-content/uploads/2016/09/plc-program-control-mixing-tank-01.png)\n",
    "\n",
    "**1. Define the System:** Our control volume is the liquid inside the tank. The quantity we are tracking is the mass of salt, $m_{salt}$.\n",
    "\n",
    "**2. Apply the General Balance Equation Term by Term:**\n",
    "*   **Accumulation:** Rate of change of salt mass in the tank. $$ \\text{Accumulation} = \\frac{dm_{salt}}{dt} = \\frac{d(C_{salt} \\cdot V)}{dt} $$ Where $C_{salt}$ is the mass concentration (kg/m³) and $V$ is the tank volume.\n",
    "*   **In:** The mass flow rate of salt entering the tank. $$ \\text{In} = F_{in} \\cdot C_{salt, in} $$ Where $F_{in}$ is the volumetric flow rate (m³/s).\n",
    "*   **Out:** The mass flow rate of salt leaving the tank. $$ \\text{Out} = F_{out} \\cdot C_{salt} $$ (The concentration out is the same as the concentration inside, assuming perfect mixing).\n",
    "*   **Generation:** $0$. Salt is not being created.\n",
    "*   **Consumption:** $0$. Salt is not being consumed.\n",
    "\n",
    "**3. Assemble the Final Model:**\n",
    "$$ \\frac{d(C_{salt} V)}{dt} = F_{in} C_{salt, in} - F_{out} C_{salt} $$"
   ]
  },
  {
   "cell_type": "code",
   "execution_count": null,
   "metadata": {},
   "outputs": [],
   "source": [
    "from scipy.integrate import solve_ivp\n",
    "import numpy as np\n",
    "import matplotlib.pyplot as plt\n",
    "\n",
    "def mixing_tank_model(t, C_salt, F_in, C_salt_in, F_out, V):\n",
    "    \"\"\"ODE for a simple mixing tank with constant volume.\"\"\"\n",
    "    # If V is constant, d(C*V)/dt = V*dC/dt\n",
    "    dCsalt_dt = (F_in * C_salt_in - F_out * C_salt) / V\n",
    "    return dCsalt_dt\n",
    "\n",
    "# --- Simulation ---\n",
    "# Parameters\n",
    "F_in, F_out = 0.5, 0.5 # m^3/s\n",
    "C_salt_in = 50.0       # kg/m^3\n",
    "V = 10.0               # m^3\n",
    "C_salt_initial = 0.0   # Tank starts with pure water\n",
    "\n",
    "# Solve the ODE\n",
    "t_span = (0, 60) # seconds\n",
    "solution = solve_ivp(mixing_tank_model, t_span, [C_salt_initial], \n",
    "                         args=(F_in, C_salt_in, F_out, V), dense_output=True)\n",
    "\n",
    "t_plot = np.linspace(t_span[0], t_span[1], 200)\n",
    "C_plot = solution.sol(t_plot)[0]\n",
    "\n",
    "# --- Plotting ---\n",
    "plt.figure(figsize=(10,6))\n",
    "plt.plot(t_plot, C_plot, linewidth=3)\n",
    "plt.title('Salt Concentration in a Mixing Tank Over Time', fontsize=16, weight='bold')\n",
    "plt.xlabel('Time (seconds)', fontsize=12)\n",
    "plt.ylabel('Salt Concentration (kg/m$^3$)', fontsize=12)\n",
    "plt.axhline(y=C_salt_in, color='red', linestyle='--', label='Inlet Concentration (Steady State)')\n",
    "plt.legend()\n",
    "plt.grid(True)\n",
    "plt.show()\n",
    "\n",
    "print(\"The simulation shows the tank concentration starting at zero and asymptotically approaching the inlet concentration, which is the expected steady state.\")"
   ]
  },
  {
   "cell_type": "markdown",
   "metadata": {},
   "source": [
    "## Case Study 2: An Ideal Batch Reactor\n",
    "\n",
    "Now, let's consider a different system: a sealed tank where a reaction $A \\rightarrow B$ is occurring. This is a batch reactor.\n",
    "\n",
    "**1. Define the System:** Control volume is the contents of the reactor. We will do a mole balance on reactant A. The number of moles is $N_A = C_A V$.\n",
    "\n",
    "**2. Apply the General Balance Equation Term by Term:**\n",
    "*   **Accumulation:** $$ \\text{Accumulation} = \\frac{dN_A}{dt} = \\frac{d(C_A V)}{dt} $$ Since V is constant, this is $ V \\frac{dC_A}{dt} $.\n",
    "*   **In:** $0$. It's a sealed batch reactor; nothing enters.\n",
    "*   **Out:** $0$. Nothing leaves.\n",
    "*   **Generation:** $0$. A is a reactant.\n",
    "*   **Consumption:** The rate of reaction, $r_A = kC_A$, is per unit volume. The total consumption is the rate times the volume.\n",
    "    $$ \\text{Consumption} = r_A V = k C_A V $$\n",
    "\n",
    "**3. Assemble the Final Model:**\n",
    "$$ V \\frac{dC_A}{dt} = 0 - 0 + 0 - k C_A V $$ \n",
    "Dividing by V gives the familiar batch reactor design equation:\n",
    "$$ \\frac{dC_A}{dt} = -k C_A $$"
   ]
  },
  {
   "cell_type": "markdown",
   "metadata": {},
   "source": [
    "## Case Study 3: The Continuous Stirred-Tank Reactor (CSTR)\n",
    "\n",
    "This is the grand synthesis. A CSTR is a combination of the first two cases: it has flow **AND** reaction. Let's derive its model from the general balance.\n",
    "\n",
    "**1. Define the System:** Control volume is the reactor contents. We will do a mole balance on reactant A ($N_A = C_A V$).\n",
    "\n",
    "**2. Apply the General Balance Equation Term by Term:**\n",
    "*   **Accumulation:** $ V \\frac{dC_A}{dt} $ (assuming constant V).\n",
    "*   **In:** $ F_{in} C_{A,in} $.\n",
    "*   **Out:** $ F_{out} C_{A} $.\n",
    "*   **Generation:** $0$.\n",
    "*   **Consumption:** $ k C_A V $.\n",
    "\n",
    "**3. Assemble the Final Model:**\n",
    "$$ V \\frac{dC_A}{dt} = F_{in} C_{A,in} - F_{out} C_{A} - k C_A V $$ \n",
    "Dividing by V gives the final dynamic model for a CSTR:\n",
    "$$ \\frac{dC_A}{dt} = \\frac{F_{in}}{V} (C_{A,in} - C_{A}) - k C_A $$ \n",
    "(Assuming $F_{in}=F_{out}$)\n",
    "\n",
    "**This is exactly the model we used in the Reaction Engineering notebooks! We have now proven that it comes directly from the same universal law as all the others.**"
   ]
  },
  {
   "cell_type": "markdown",
   "metadata": {},
   "source": [
    "## Conclusion: One Equation to Rule Them All\n",
    "\n",
    "This lesson is the most conceptual, but also the most powerful. If you can master the art of applying the General Mass Balance, you can derive the model for **any** chemical process.\n",
    "\n",
    "You have learned:\n",
    "\n",
    "✅ The five terms of the General Mass Balance equation.\n",
    "\n",
    "✅ How to translate each conceptual term into a mathematical expression for flow, reaction, and accumulation.\n",
    "\n",
    "✅ How to apply simplifying assumptions (steady-state, no reaction, no flow) to tailor the general equation to a specific system.\n",
    "\n",
    "✅ That the models for vastly different-looking processes like simple mixing, batch reactions, and continuous reactions all originate from the exact same fundamental principle.\n",
    "\n",
    "**The General Mass Balance is your first principle.** When you face a new, complex problem, start here. Define your system, write down the balance, and analyze each term. The path to the solution will always begin with this equation."
   ]
  }
 ],
 "metadata": {
  "kernelspec": {
   "display_name": "Python 3",
   "language": "python",
   "name": "python3"
  },
  "language_info": {
   "codemirror_mode": {
    "name": "ipython",
    "version": 3
   },
   "file_extension": ".py",
   "mimetype": "text/x-python",
   "name": "python",
   "nbconvert_exporter": "python",
   "pygments_lexer": "ipython3",
   "version": "3.9.7"
  }
 },
 "nbformat": 4,
 "nbformat_minor": 4
}
