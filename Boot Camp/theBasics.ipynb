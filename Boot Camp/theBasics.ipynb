{
 "cells": [
  {
   "cell_type": "markdown",
   "metadata": {},
   "source": [
    "# Bootcamp: Foundational Skills for Process Simulation\n",
    "\n",
    "**Welcome!** This notebook is your starting point. Before you can design a reactor, optimize a plant, or simulate a separation, you need a solid foundation. It is NOT as comprehensive as I would like it to be, but I am no professor.\n",
    "\n",
    "**Objective:** To provide a comprehensive, hands-on introduction to the foundational skills required for computational chemical engineering, including Python programming, core scientific libraries, and the fundamental principles of math, chemistry, and engineering that power our simulations.\n",
    "\n",
    "**How to Use This Notebook:** Work through it cell by cell. Don't just read it, run the code, change the values, and experiment. The goal is not to memorize, but to understand. By the end of this lesson, you will be fully prepared to tackle all the other, more advanced notebooks."
   ]
  },
  {
   "cell_type": "markdown",
   "metadata": {},
   "source": [
    "## Part 1: The Language - Essential Python for Engineers\n",
    "\n",
    "Python is the language we use to communicate our engineering problems to the computer. You don't need to be a software developer, but you do need to be fluent in the basics."
   ]
  },
  {
   "cell_type": "markdown",
   "metadata": {},
   "source": [
    "### 1.1 Variables and Basic Data Types\n",
    "Variables are names we give to store data. In engineering, our data is often numbers."
   ]
  },
  {
   "cell_type": "code",
   "execution_count": null,
   "metadata": {},
   "outputs": [],
   "source": [
    "# A variable is like a labeled box.\n",
    "# Let's store the temperature and pressure.\n",
    "\n",
    "temperature = 298.15  # This is a floating-point number (a float)\n",
    "num_reactors = 5      # This is an integer (an int)\n",
    "reactor_name = \"CSTR\" # This is a string (text)\n",
    "\n",
    "# We can print these values to see them.\n",
    "# The f-string (f\"...\") is a modern way to format text with variables.\n",
    "print(f\"The temperature is {temperature} K.\")\n",
    "print(f\"The reactor name is {reactor_name} and we have {num_reactors} of them.\")"
   ]
  },
  {
   "cell_type": "markdown",
   "metadata": {},
   "source": [
    "### 1.2 Lists and Dictionaries - Storing Collections of Data\n",
    "We often work with sets of data, like the composition of a stream or properties of a chemical.\n",
    "\n",
    "*   **Lists:** Ordered collections of items. We use them for things like molar flow rates of components `[F_A, F_B, F_C]`.\n",
    "*   **Dictionaries:** Unordered collections of `key: value` pairs. We use them for storing labeled parameters."
   ]
  },
  {
   "cell_type": "code",
   "execution_count": null,
   "metadata": {},
   "outputs": [],
   "source": [
    "# A list of component flow rates (mol/s)\n",
    "flow_rates = [10.5, 2.3, 0.8]\n",
    "# Access elements with an index (starting from 0!)\n",
    "flow_A = flow_rates[0]\n",
    "print(f\"The flow rate of component A is {flow_A} mol/s.\")\n",
    "\n",
    "# A dictionary of parameters for Benzene\n",
    "benzene_params = {\n",
    "    \"name\": \"Benzene\",\n",
    "    \"formula\": \"C6H6\",\n",
    "    \"boiling_point_C\": 80.1\n",
    "}\n",
    "# Access values with their key\n",
    "bp = benzene_params[\"boiling_point_C\"]\n",
    "print(f\"The boiling point of Benzene is {bp} C.\")"
   ]
  },
  {
   "cell_type": "markdown",
   "metadata": {},
   "source": [
    "### 1.3 Functions - The Building Blocks of Our Models\n",
    "A **function** is a reusable block of code that performs a specific task. This is the **most important concept** in this section. We use functions to define our engineering models (e.g., a reactor model, a VLE calculation).\n",
    "\n",
    "A function takes **inputs** (called arguments or parameters), performs some operations, and gives back an **output** (with the `return` keyword)."
   ]
  },
  {
   "cell_type": "code",
   "execution_count": null,
   "metadata": {},
   "outputs": [],
   "source": [
    "def calculate_volumetric_flow(molar_flow, concentration):\n",
    "    \"\"\"\n",
    "    Calculates volumetric flow from molar flow and concentration.\n",
    "    This text in triple quotes is a docstring - it explains what the function does.\n",
    "    \n",
    "    Args:\n",
    "        molar_flow (float): The molar flow rate (mol/s).\n",
    "        concentration (float): The concentration (mol/L).\n",
    "        \n",
    "    Returns:\n",
    "        float: The calculated volumetric flow rate (L/s).\n",
    "    \"\"\"\n",
    "    # v = F / C\n",
    "    volumetric_flow = molar_flow / concentration\n",
    "    return volumetric_flow\n",
    "\n",
    "# --- Let's use our function ---\n",
    "F_A = 10.0 # mol/s\n",
    "C_A = 2.0  # mol/L\n",
    "\n",
    "v_A = calculate_volumetric_flow(F_A, C_A)\n",
    "\n",
    "print(f\"Given a molar flow of {F_A} mol/s and a concentration of {C_A} mol/L...\")\n",
    "print(f\"The volumetric flow rate is {v_A} L/s.\")"
   ]
  },
  {
   "cell_type": "markdown",
   "metadata": {},
   "source": [
    "## Part 2: The Tools - Core Scientific Libraries\n",
    "\n",
    "While Python is the language, powerful libraries provide the specialized tools we need for engineering calculations."
   ]
  },
  {
   "cell_type": "markdown",
   "metadata": {},
   "source": [
    "### 2.1 NumPy - Numerical Python\n",
    "NumPy is the fundamental package for scientific computing in Python. Its main feature is the powerful N-dimensional array object, or `ndarray`. Think of it as a super-powered list that is incredibly fast for mathematical operations.\n",
    "\n",
    "**Why use NumPy arrays?** They allow you to perform math on entire sets of numbers at once (this is called vectorization)."
   ]
  },
  {
   "cell_type": "code",
   "execution_count": null,
   "metadata": {},
   "outputs": [],
   "source": [
    "import numpy as np # We import numpy and give it a standard nickname, 'np'\n",
    "\n",
    "# Let's convert our Python list of flow rates to a NumPy array\n",
    "flow_rates_list = [10.5, 2.3, 0.8]\n",
    "flow_rates_array = np.array(flow_rates_list)\n",
    "\n",
    "print(f\"Original Python list: {flow_rates_list}\")\n",
    "print(f\"NumPy array:          {flow_rates_array}\")\n",
    "\n",
    "# Now, let's see the magic. What if we want to double every flow rate?\n",
    "# With a NumPy array, it's easy:\n",
    "doubled_flows = flow_rates_array * 2\n",
    "print(f\"Doubled flows (with NumPy): {doubled_flows}\")\n",
    "\n",
    "# We can also easily calculate the total flow\n",
    "total_flow = np.sum(flow_rates_array)\n",
    "print(f\"Total flow (with NumPy):    {total_flow:.2f}\")"
   ]
  },
  {
   "cell_type": "markdown",
   "metadata": {},
   "source": [
    "### 2.2 Matplotlib - The Engineer's Plotting Tool\n",
    "A simulation is useless if you can't see the results. Matplotlib is the most widely used library for creating plots and charts.\n",
    "\n",
    "The basic recipe is:\n",
    "1.  Create your data (often with NumPy).\n",
    "2.  Create a plot.\n",
    "3.  Add your data series to the plot.\n",
    "4.  Add labels and a title.\n",
    "5.  Show the plot."
   ]
  },
  {
   "cell_type": "code",
   "execution_count": null,
   "metadata": {},
   "outputs": [],
   "source": [
    "import matplotlib.pyplot as plt # The standard nickname is 'plt'\n",
    "\n",
    "# 1. Create data: a time vector and a temperature profile\n",
    "time = np.linspace(0, 10, 50) # 50 points from 0 to 10\n",
    "temperature = 20 + 80 * (1 - np.exp(-time / 3.0)) # A simple heating curve\n",
    "\n",
    "# 2. Create a figure and an axes object (the canvas for our plot)\n",
    "fig, ax = plt.subplots(figsize=(10, 6))\n",
    "\n",
    "# 3. Add the data to the plot\n",
    "ax.plot(time, temperature, 'r-o', label='Reactor Temperature') # 'r-o' means red line with circle markers\n",
    "\n",
    "# 4. Add labels and a title\n",
    "ax.set_xlabel(\"Time (minutes)\")\n",
    "ax.set_ylabel(\"Temperature (C)\")\n",
    "ax.set_title(\"Reactor Startup Temperature Profile\")\n",
    "ax.legend()\n",
    "ax.grid(True)\n",
    "\n",
    "# 5. Show the plot\n",
    "plt.show()"
   ]
  },
  {
   "cell_type": "markdown",
   "metadata": {},
   "source": [
    "### 2.3 SciPy - The Advanced Toolbox\n",
    "SciPy builds on NumPy and provides a huge collection of algorithms for more advanced tasks. You don't need to know how these work internally, but you must know that they exist and what they do. In the other notebooks, we frequently use:\n",
    "\n",
    "*   **`scipy.integrate`**: Contains numerical integrators, most importantly **`solve_ivp`** for solving systems of Ordinary Differential Equations (ODEs). This is the engine behind our dynamic reactor simulations.\n",
    "*   **`scipy.optimize`**: Contains algorithms for finding solutions to equations (root finding) and finding minimums/maximums (optimization). We use **`fsolve`** to solve algebraic equations like the Rachford-Rice equation in flash distillation."
   ]
  },
  {
   "cell_type": "markdown",
   "metadata": {},
   "source": [
    "## Part 3: The Universal Language - Foundational Mathematics\n",
    "The laws of physics and chemistry are written in the language of mathematics, specifically calculus. Our simulations are just ways of getting the computer to solve these mathematical models."
   ]
  },
  {
   "cell_type": "markdown",
   "metadata": {},
   "source": [
    "### 3.1 The Derivative: The Rate of Change\n",
    "A derivative measures how a function's output changes as its input changes. It is the **instantaneous rate of change**, or the **slope** of a function at a point.\n",
    "\n",
    "In engineering, derivatives are everywhere:\n",
    "*   **Reaction Rate:** The rate of change of concentration with time ($dC/dt$).\n",
    "*   **Heat Flux:** The rate of change of temperature with position ($dT/dx$).\n",
    "*   **Flow Rate:** The rate of change of volume with time ($dV/dt$).\n",
    "\n",
    "The notation for the derivative of a function $y$ with respect to a variable $x$ is: $$ \\frac{dy}{dx} $$"
   ]
  },
  {
   "cell_type": "markdown",
   "metadata": {},
   "source": [
    "### 3.2 The Integral: The Accumulation\n",
    "An integral represents the accumulation or summation of a quantity. It is the **area under the curve** of a function.\n",
    "\n",
    "In engineering, integrals are used to find total quantities:\n",
    "*   **Reactor Volume:** Integrating the design equation gives the total volume needed for a certain conversion.\n",
    "*   **Total Mass:** Integrating a density profile gives the total mass of an object.\n",
    "*   **Average Conversion:** In our RTD notebook, we integrate over the E-curve to find the average conversion.\n",
    "\n",
    "The notation for the integral of a function $f(x)$ with respect to $x$ is: $$ \\int f(x) \\,dx $$"
   ]
  },
  {
   "cell_type": "markdown",
   "metadata": {},
   "source": [
    "### 3.3 Ordinary Differential Equations (ODEs)\n",
    "This is the **most important mathematical concept** for our work. An ODE is simply an equation that contains a derivative. \n",
    "\n",
    "**Almost all of our dynamic engineering models are ODEs.**\n",
    "\n",
    "For example, the PFR design equation is an ODE: $ \\frac{dF_A}{dV} = r_A $. It tells us how the molar flow ($F_A$) **changes** with respect to reactor volume ($V$). To find the actual flow rate at any point, we must solve (integrate) this equation. This is precisely what `scipy.integrate.solve_ivp` does for us."
   ]
  },
  {
   "cell_type": "markdown",
   "metadata": {},
   "source": [
    "## Part 4: The Science - Foundational Chemistry\n",
    "Chemical engineering is, at its heart, applied chemistry at a massive scale. We need a few core concepts."
   ]
  },
  {
   "cell_type": "markdown",
   "metadata": {},
   "source": [
    "### 4.1 The Mole and Concentration\n",
    "*   **The Mole:** The standard unit for the \"amount of substance\". $6.022 \\times 10^{23}$ particles.\n",
    "*   **Concentration ($C$):** The amount of substance per unit volume. We typically use **molarity (mol/L)**."
   ]
  },
  {
   "cell_type": "markdown",
   "metadata": {},
   "source": [
    "### 4.2 Stoichiometry and Reaction Rates\n",
    "*   **Stoichiometry:** The quantitative relationship between reactants and products in a chemical reaction. It tells us the ratios in which things are consumed and produced. For the reaction $A \\rightarrow 2B$, for every 1 mole of A consumed, 2 moles of B are produced.\n",
    "\n",
    "*   **Rate Law:** An equation that describes the speed of a reaction. It typically depends on concentration and temperature. A simple, nth-order rate law is:\n",
    "$$ r = k C_A^n $$\n",
    "where $r$ is the rate of reaction, $k$ is the rate constant (which depends on temperature), and $n$ is the reaction order."
   ]
  },
  {
   "cell_type": "markdown",
   "metadata": {},
   "source": [
    "## Part 5: The Grand Unifying Principle - The General Mass Balance\n",
    "\n",
    "This is it. This is the single most important principle in all of chemical engineering, and it's the starting point for almost every model we build. It's a simple statement of the law of conservation of mass.\n",
    "\n",
    "For any quantity (mass, moles of a component, energy) in a defined system (a reactor, a pipe, a whole plant), the following must be true:\n",
    "$$ \\text{Accumulation} = \\text{In} - \\text{Out} + \\text{Generation} - \\text{Consumption} $$"
   ]
  },
  {
   "cell_type": "markdown",
   "metadata": {},
   "source": [
    "### The \"Aha!\" Moment: From Words to a Solvable Model\n",
    "\n",
    "Let's see how we use this principle to derive the CSTR model from scratch. Consider the moles of component A in a CSTR.\n",
    "\n",
    "*   **System:** The liquid inside the CSTR.\n",
    "*   **Quantity:** Moles of A, which is $N_A = C_A V$.\n",
    "\n",
    "Let's translate each term in the balance equation:\n",
    "\n",
    "1.  **Accumulation:** The rate of change of moles of A in the tank. This is a derivative! \n",
    "    $$ \\text{Accumulation} = \\frac{dN_A}{dt} = \\frac{d(C_A V)}{dt} $$\n",
    "\n",
    "2.  **In:** The molar flow rate of A entering the system.\n",
    "    $$ \\text{In} = F_{in} C_{A,in} $$\n",
    "\n",
    "3.  **Out:** The molar flow rate of A leaving the system.\n",
    "    $$ \\text{Out} = F_{out} C_{A,out} $$\n",
    "\n",
    "4.  **Generation:** Zero, since A is a reactant.\n",
    "\n",
    "5.  **Consumption:** The rate at which the reaction destroys A. The reaction rate $r=kC_A$ is per unit volume, so we multiply by the reactor volume $V$.\n",
    "    $$ \\text{Consumption} = r V = k C_A V $$\n",
    "\n",
    "Now, we assemble the equation:\n",
    "$$ \\frac{d(C_A V)}{dt} = F_{in} C_{A,in} - F_{out} C_{A,out} - k C_A V $$\n",
    "\n",
    "This is the complete, dynamic CSTR model. **It is an ODE!** It connects our knowledge of math (derivatives), chemistry (rate laws), and engineering (flow rates) into a single, solvable equation. This is what we mean when we say we are \"modeling a process\"."
   ]
  },
  {
   "cell_type": "markdown",
   "metadata": {},
   "source": [
    "## Conclusion: You Are Ready! (ish)\n",
    "\n",
    "Congratulations on completing this bootcamp. If you have understood the concepts in this notebook, you now possess the fundamental toolkit of a computational chemical engineer. \n",
    "\n",
    "You have learned:\n",
    "✅ How to use **Python** to define variables and functions.\n",
    "\n",
    "✅ How to use **NumPy** for numerical calculations and **Matplotlib** for plotting.\n",
    "\n",
    "✅ The meaning of **derivatives, integrals, and ODEs**.\n",
    "\n",
    "✅ The core chemical concepts of **stoichiometry and reaction rates**.\n",
    "\n",
    "✅ How to apply the **General Mass Balance** to derive an engineering model from first principles.\n",
    "\n",
    "You are now fully equipped to explore the other, more specific notebooks on PFRs, CSTRs, separations, process control, and economics. You will see the patterns from this notebook repeated in every single one of them. \n",
    "There are more in-depth modules for each chapter if you still need some more help getting this figured out.\n",
    "\n",
    "GOOD HUNTING!!!!"
   ]
  }
 ],
 "metadata": {
  "kernelspec": {
   "display_name": "Python 3",
   "language": "python",
   "name": "python3"
  },
  "language_info": {
   "codemirror_mode": {
    "name": "ipython",
    "version": 3
   },
   "file_extension": ".py",
   "mimetype": "text/x-python",
   "name": "python",
   "nbconvert_exporter": "python",
   "pygments_lexer": "ipython3",
   "version": "3.9.7"
  }
 },
 "nbformat": 4,
 "nbformat_minor": 4
}
