{
 "cells": [
  {
   "cell_type": "markdown",
   "metadata": {},
   "source": [
    "# (More) In-Depth Python for Engineers\n",
    "\n",
    "**Welcome!** In the 'Bootcamp' notebook, you learned the basic syntax of Python. Now, we move to the next level: learning how to think like a programmer to solve engineering problems. This lesson focuses on **programming logic**—how to make decisions, repeat tasks, and structure data and functions effectively.\n",
    "\n",
    "**Objective:** To provide a comprehensive guide to the essential programming structures and techniques used to build engineering models and simulations in Python.\n",
    "\n",
    "**Learning Goals:**\n",
    "1.  Master **Control Flow** using `if`/`elif`/`else` statements to make decisions in your code.\n",
    "2.  Learn to automate repetitive tasks using **`for` loops**.\n",
    "3.  Gain proficiency with **data structures** (lists and dictionaries) for organizing complex engineering data.\n",
    "4.  Learn to write more powerful and flexible **functions** that can return multiple values and use default arguments.\n",
    "5.  Combine all these skills to build a fully interactive simulation of a batch reactor."
   ]
  },
  {
   "cell_type": "markdown",
   "metadata": {},
   "source": [
    "## Part 1: Control Flow - Giving Your Code a Brain\n",
    "\n",
    "Control flow allows your program to execute different pieces of code based on certain conditions. This is how we make our models 'smart'."
   ]
  },
  {
   "cell_type": "markdown",
   "metadata": {},
   "source": [
    "### 1.1 `if`, `elif`, `else` - Making Decisions\n",
    "\n",
    "These statements allow you to run code only if a certain condition is true. This is fundamental for modeling physical boundaries and different behaviors.\n",
    "\n",
    "**Engineering Example:** Let's determine the flow regime (laminar, transitional, or turbulent) based on the calculated Reynolds number."
   ]
  },
  {
   "cell_type": "code",
   "execution_count": null,
   "metadata": {},
   "outputs": [],
   "source": [
    "def check_flow_regime(Re):\n",
    "    \"\"\"Determines the flow regime based on the Reynolds number.\"\"\"\n",
    "    if Re < 2100:\n",
    "        regime = \"Laminar\"\n",
    "    elif Re >= 2100 and Re <= 4000: # 'elif' is 'else if'\n",
    "        regime = \"Transitional\"\n",
    "    else: # 'else' catches all other cases\n",
    "        regime = \"Turbulent\"\n",
    "    return regime\n",
    "\n",
    "# --- Let's test our function ---\n",
    "Re_1 = 1500\n",
    "Re_2 = 3000\n",
    "Re_3 = 50000\n",
    "\n",
    "print(f\"A Reynolds number of {Re_1} corresponds to {check_flow_regime(Re_1)} flow.\")\n",
    "print(f\"A Reynolds number of {Re_2} corresponds to {check_flow_regime(Re_2)} flow.\")\n",
    "print(f\"A Reynolds number of {Re_3} corresponds to {check_flow_regime(Re_3)} flow.\")"
   ]
  },
  {
   "cell_type": "markdown",
   "metadata": {},
   "source": [
    "### 1.2 `for` Loops - Automating Repetitive Tasks\n",
    "\n",
    "A `for` loop is used to iterate over a sequence (like a list) and perform an action for each item. This saves us from writing the same code over and over again.\n",
    "\n",
    "**Engineering Example:** Let's calculate the vapor pressure of water at several different temperatures using the Antoine equation."
   ]
  },
  {
   "cell_type": "code",
   "execution_count": null,
   "metadata": {},
   "outputs": [],
   "source": [
    "import numpy as np\n",
    "\n",
    "def calculate_vapor_pressure(T_celsius):\n",
    "    \"\"\"Calculates vapor pressure of water using Antoine equation.\"\"\"\n",
    "    # Antoine constants for water (P in mmHg, T in Celsius)\n",
    "    A, B, C = 8.07131, 1730.63, 233.426\n",
    "    P_mmHg = 10**(A - (B / (C + T_celsius)))\n",
    "    return P_mmHg\n",
    "\n",
    "# A list of temperatures we are interested in\n",
    "temperatures_C = [20, 40, 60, 80, 100]\n",
    "\n",
    "# An empty list to store our results\n",
    "vapor_pressures = []\n",
    "\n",
    "# The for loop!\n",
    "# 'for temp in temperatures_C:' means \"for each item in the list, temporarily call it 'temp' and do the following:\"\n",
    "for temp in temperatures_C:\n",
    "    # Calculate the vapor pressure for the current temperature\n",
    "    P_sat = calculate_vapor_pressure(temp)\n",
    "    # Add the result to our list\n",
    "    vapor_pressures.append(P_sat)\n",
    "    print(f\"At {temp} C, the vapor pressure is {P_sat:.2f} mmHg.\")\n",
    "\n",
    "print(\"\\nFinal list of calculated pressures:\", vapor_pressures)"
   ]
  },
  {
   "cell_type": "markdown",
   "metadata": {},
   "source": [
    "## Part 2: Mastering Data Structures\n",
    "\n",
    "Organizing data effectively is crucial for writing clean and understandable code."
   ]
  },
  {
   "cell_type": "markdown",
   "metadata": {},
   "source": [
    "### 2.1 Lists: The Engineer's Go-To Container\n",
    "\n",
    "We've seen how to create lists and access elements. A common task is building a list dynamically within a loop, as we did above with `vapor_pressures.append(P_sat)`. This is a fundamental pattern for collecting simulation results."
   ]
  },
  {
   "cell_type": "markdown",
   "metadata": {},
   "source": [
    "### 2.2 Dictionaries: For Organized, Labeled Data\n",
    "\n",
    "Dictionaries are perfect for storing structured data with labels, like the physical properties of a chemical. This is much better than having many separate variables (e.g., `k_benzene`, `formula_benzene`, etc.). It keeps related data together.\n",
    "\n",
    "**Engineering Example:** Store all the parameters for our water vapor pressure calculation in a single dictionary."
   ]
  },
  {
   "cell_type": "code",
   "execution_count": null,
   "metadata": {},
   "outputs": [],
   "source": [
    "water_data = {\n",
    "    \"name\": \"Water\",\n",
    "    \"formula\": \"H2O\",\n",
    "    \"antoine_coeffs\": {\"A\": 8.07131, \"B\": 1730.63, \"C\": 233.426},\n",
    "    \"units\": {\"T\": \"Celsius\", \"P\": \"mmHg\"}\n",
    "}\n",
    "\n",
    "# Now we can write a more robust function that takes the dictionary as input\n",
    "def calculate_P_sat_from_dict(T, chemical_data):\n",
    "    \"\"\"Calculates vapor pressure using a chemical data dictionary.\"\"\"\n",
    "    A = chemical_data[\"antoine_coeffs\"][\"A\"]\n",
    "    B = chemical_data[\"antoine_coeffs\"][\"B\"]\n",
    "    C = chemical_data[\"antoine_coeffs\"][\"C\"]\n",
    "    \n",
    "    P_sat = 10**(A - (B / (C + T)))\n",
    "    return P_sat\n",
    "\n",
    "# --- Let's test the new function ---\n",
    "T_boiling = 100.0\n",
    "P_at_boiling = calculate_P_sat_from_dict(T_boiling, water_data)\n",
    "\n",
    "print(f\"Using the data dictionary for {water_data['name']}...\")\n",
    "print(f\"The calculated vapor pressure at {T_boiling} C is {P_at_boiling:.1f} {water_data['units']['P']}.\")\n",
    "print(\"(This is atmospheric pressure, as expected!)\")"
   ]
  },
  {
   "cell_type": "markdown",
   "metadata": {},
   "source": [
    "## Part 3: Writing Powerful and Reusable Functions\n",
    "\n",
    "Well-designed functions are the key to building complex simulations without creating a mess."
   ]
  },
  {
   "cell_type": "markdown",
   "metadata": {},
   "source": [
    "### 3.1 Functions That Return Multiple Values\n",
    "Our engineering models often need to output multiple results. For example, a reactor model needs to tell us the final concentration of both reactants and products. Functions can easily return multiple values (as a `tuple`)."
   ]
  },
  {
   "cell_type": "code",
   "execution_count": null,
   "metadata": {},
   "outputs": [],
   "source": [
    "def batch_reaction_step(C_A_initial, C_B_initial, k, dt):\n",
    "    \"\"\"Calculates concentrations after one time step for A -> B.\"\"\"\n",
    "    # Rate is based on the initial concentration for this small time step\n",
    "    rate = k * C_A_initial\n",
    "    \n",
    "    # Amount of A reacted in this time step\n",
    "    A_reacted = rate * dt\n",
    "    \n",
    "    # New concentrations\n",
    "    C_A_final = C_A_initial - A_reacted\n",
    "    C_B_final = C_B_initial + A_reacted\n",
    "    \n",
    "    return C_A_final, C_B_final # Returning two values!\n",
    "\n",
    "# --- Let's test it ---\n",
    "C_A_start, C_B_start = 1.0, 0.0\n",
    "\n",
    "# We can \"unpack\" the returned tuple into multiple variables\n",
    "C_A_next, C_B_next = batch_reaction_step(C_A_start, C_B_start, k=0.1, dt=1.0)\n",
    "\n",
    "print(f\"Initial concentrations: C_A={C_A_start:.2f}, C_B={C_B_start:.2f}\")\n",
    "print(f\"After one time step:   C_A={C_A_next:.2f}, C_B={C_B_next:.2f}\")"
   ]
  },
  {
   "cell_type": "markdown",
   "metadata": {},
   "source": [
    "## Part 4: Interactive Capstone - A Batch Reactor Simulation\n",
    "\n",
    "Let's put everything together! We will build a complete simulation of a batch reactor using all the concepts we've learned: functions, `for` loops, `if` statements, and lists. We will then make it interactive to see the effect of our parameters in real time."
   ]
  },
  {
   "cell_type": "code",
   "execution_count": null,
   "metadata": {},
   "outputs": [],
   "source": [
    "import ipywidgets as widgets\n",
    "from IPython.display import display\n",
    "\n",
    "def simulate_batch_reactor(k=0.1, C_A0=1.0, total_time=30.0):\n",
    "    \"\"\"Runs a full batch reactor simulation and plots the results.\"\"\"\n",
    "    \n",
    "    # --- Simulation Setup ---\n",
    "    dt = 0.1 # Time step size (minutes)\n",
    "    num_steps = int(total_time / dt)\n",
    "    \n",
    "    # Use lists to store the history of our concentrations\n",
    "    time_history = [0]\n",
    "    C_A_history = [C_A0]\n",
    "    C_B_history = [0.0]\n",
    "    \n",
    "    # Set initial values for the loop\n",
    "    C_A_current = C_A0\n",
    "    C_B_current = 0.0\n",
    "    \n",
    "    # --- The Main Simulation Loop ---\n",
    "    for i in range(num_steps):\n",
    "        # Use an 'if' statement to prevent negative concentrations\n",
    "        if C_A_current < 0:\n",
    "            C_A_current = 0\n",
    "        \n",
    "        # Calculate concentrations for the next time step\n",
    "        C_A_current, C_B_current = batch_reaction_step(C_A_current, C_B_current, k, dt)\n",
    "        \n",
    "        # Store the results\n",
    "        C_A_history.append(C_A_current)\n",
    "        C_B_history.append(C_B_current)\n",
    "        time_history.append((i + 1) * dt)\n",
    "    \n",
    "    # --- Plotting ---\n",
    "    fig, ax = plt.subplots(figsize=(10, 6))\n",
    "    ax.plot(time_history, C_A_history, label='Concentration of A (reactant)')\n",
    "    ax.plot(time_history, C_B_history, label='Concentration of B (product)')\n",
    "    ax.set_xlabel(\"Time (minutes)\")\n",
    "    ax.set_ylabel(\"Concentration (mol/L)\")\n",
    "    ax.set_title(\"Batch Reactor Concentration Profile\")\n",
    "    ax.legend()\n",
    "    ax.grid(True)\n",
    "    ax.set_ylim(bottom=0)\n",
    "    plt.show()\n",
    "\n",
    "# Create interactive widgets and link them to our simulation function\n",
    "interactive_plot = widgets.interactive(simulate_batch_reactor,\n",
    "                                       k=widgets.FloatSlider(value=0.1, min=0.01, max=0.5, step=0.01, description='Rate Constant, k:'),\n",
    "                                       C_A0=widgets.FloatSlider(value=1.0, min=0.5, max=2.0, step=0.1, description='Initial C_A:'),\n",
    "                                       total_time=widgets.FloatSlider(value=30, min=10, max=100, step=5, description='Total Time:'))\n",
    "\n",
    "# Display the interactive dashboard\n",
    "display(interactive_plot)"
   ]
  },
  {
   "cell_type": "markdown",
   "metadata": {},
   "source": [
    "## Conclusion: You are a Programmer! \n",
    "\n",
    "Congratulations! You have now mastered the essential logical structures of programming that are required for engineering simulation.\n",
    "\n",
    "You have learned:\n",
    "✅ How to use **`if/elif/else`** to make your code respond to different conditions.\n",
    "\n",
    "✅ How to use **`for` loops** to automate calculations over a range of data or time.\n",
    "\n",
    "✅ How to effectively use **lists and dictionaries** to organize the data for your models.\n",
    "\n",
    "✅ How to write **powerful functions** that form the reusable heart of any good simulation.\n",
    "\n",
    "With these skills, you are now more well-prepared to understand and build the more complex models in the subsequent lessons on reaction engineering, thermodynamics, separations, and process control."
   ]
  }
 ],
 "metadata": {
  "kernelspec": {
   "display_name": "Python 3",
   "language": "python",
   "name": "python3"
  },
  "language_info": {
   "codemirror_mode": {
    "name": "ipython",
    "version": 3
   },
   "file_extension": ".py",
   "mimetype": "text/x-python",
   "name": "python",
   "nbconvert_exporter": "python",
   "pygments_lexer": "ipython3",
   "version": "3.9.7"
  }
 },
 "nbformat": 4,
 "nbformat_minor": 4
}
